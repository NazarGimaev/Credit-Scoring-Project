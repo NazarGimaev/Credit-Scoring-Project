{
 "cells": [
  {
   "cell_type": "code",
   "execution_count": 319,
   "metadata": {},
   "outputs": [],
   "source": [
    "#импортируем библиотеки\n",
    "import numpy as np\n",
    "import pandas as pd\n",
    "import seaborn as sb\n",
    "from matplotlib import pyplot as plt\n"
   ]
  },
  {
   "cell_type": "markdown",
   "metadata": {},
   "source": [
    "# Шаг 1. Считывание данных, формирование целевой переменной"
   ]
  },
  {
   "cell_type": "markdown",
   "metadata": {},
   "source": [
    "У нас есть две таблицы, связанные по ID"
   ]
  },
  {
   "cell_type": "code",
   "execution_count": 320,
   "metadata": {},
   "outputs": [],
   "source": [
    "\n",
    "dfPeople=pd.read_csv(\"application_record.csv\")"
   ]
  },
  {
   "cell_type": "markdown",
   "metadata": {},
   "source": [
    "dfPeople -- таблица с персональными данными о клиентах, которые мы будем использовать как признаки"
   ]
  },
  {
   "cell_type": "code",
   "execution_count": 321,
   "metadata": {},
   "outputs": [
    {
     "data": {
      "text/html": [
       "<div>\n",
       "<style scoped>\n",
       "    .dataframe tbody tr th:only-of-type {\n",
       "        vertical-align: middle;\n",
       "    }\n",
       "\n",
       "    .dataframe tbody tr th {\n",
       "        vertical-align: top;\n",
       "    }\n",
       "\n",
       "    .dataframe thead th {\n",
       "        text-align: right;\n",
       "    }\n",
       "</style>\n",
       "<table border=\"1\" class=\"dataframe\">\n",
       "  <thead>\n",
       "    <tr style=\"text-align: right;\">\n",
       "      <th></th>\n",
       "      <th>ID</th>\n",
       "      <th>CODE_GENDER</th>\n",
       "      <th>FLAG_OWN_CAR</th>\n",
       "      <th>FLAG_OWN_REALTY</th>\n",
       "      <th>CNT_CHILDREN</th>\n",
       "      <th>AMT_INCOME_TOTAL</th>\n",
       "      <th>NAME_INCOME_TYPE</th>\n",
       "      <th>NAME_EDUCATION_TYPE</th>\n",
       "      <th>NAME_FAMILY_STATUS</th>\n",
       "      <th>NAME_HOUSING_TYPE</th>\n",
       "      <th>DAYS_BIRTH</th>\n",
       "      <th>DAYS_EMPLOYED</th>\n",
       "      <th>FLAG_MOBIL</th>\n",
       "      <th>FLAG_WORK_PHONE</th>\n",
       "      <th>FLAG_PHONE</th>\n",
       "      <th>FLAG_EMAIL</th>\n",
       "      <th>OCCUPATION_TYPE</th>\n",
       "      <th>CNT_FAM_MEMBERS</th>\n",
       "    </tr>\n",
       "  </thead>\n",
       "  <tbody>\n",
       "    <tr>\n",
       "      <th>0</th>\n",
       "      <td>5008804</td>\n",
       "      <td>M</td>\n",
       "      <td>Y</td>\n",
       "      <td>Y</td>\n",
       "      <td>0</td>\n",
       "      <td>427500.0</td>\n",
       "      <td>Working</td>\n",
       "      <td>Higher education</td>\n",
       "      <td>Civil marriage</td>\n",
       "      <td>Rented apartment</td>\n",
       "      <td>-12005</td>\n",
       "      <td>-4542</td>\n",
       "      <td>1</td>\n",
       "      <td>1</td>\n",
       "      <td>0</td>\n",
       "      <td>0</td>\n",
       "      <td>NaN</td>\n",
       "      <td>2.0</td>\n",
       "    </tr>\n",
       "    <tr>\n",
       "      <th>1</th>\n",
       "      <td>5008805</td>\n",
       "      <td>M</td>\n",
       "      <td>Y</td>\n",
       "      <td>Y</td>\n",
       "      <td>0</td>\n",
       "      <td>427500.0</td>\n",
       "      <td>Working</td>\n",
       "      <td>Higher education</td>\n",
       "      <td>Civil marriage</td>\n",
       "      <td>Rented apartment</td>\n",
       "      <td>-12005</td>\n",
       "      <td>-4542</td>\n",
       "      <td>1</td>\n",
       "      <td>1</td>\n",
       "      <td>0</td>\n",
       "      <td>0</td>\n",
       "      <td>NaN</td>\n",
       "      <td>2.0</td>\n",
       "    </tr>\n",
       "    <tr>\n",
       "      <th>2</th>\n",
       "      <td>5008806</td>\n",
       "      <td>M</td>\n",
       "      <td>Y</td>\n",
       "      <td>Y</td>\n",
       "      <td>0</td>\n",
       "      <td>112500.0</td>\n",
       "      <td>Working</td>\n",
       "      <td>Secondary / secondary special</td>\n",
       "      <td>Married</td>\n",
       "      <td>House / apartment</td>\n",
       "      <td>-21474</td>\n",
       "      <td>-1134</td>\n",
       "      <td>1</td>\n",
       "      <td>0</td>\n",
       "      <td>0</td>\n",
       "      <td>0</td>\n",
       "      <td>Security staff</td>\n",
       "      <td>2.0</td>\n",
       "    </tr>\n",
       "    <tr>\n",
       "      <th>3</th>\n",
       "      <td>5008808</td>\n",
       "      <td>F</td>\n",
       "      <td>N</td>\n",
       "      <td>Y</td>\n",
       "      <td>0</td>\n",
       "      <td>270000.0</td>\n",
       "      <td>Commercial associate</td>\n",
       "      <td>Secondary / secondary special</td>\n",
       "      <td>Single / not married</td>\n",
       "      <td>House / apartment</td>\n",
       "      <td>-19110</td>\n",
       "      <td>-3051</td>\n",
       "      <td>1</td>\n",
       "      <td>0</td>\n",
       "      <td>1</td>\n",
       "      <td>1</td>\n",
       "      <td>Sales staff</td>\n",
       "      <td>1.0</td>\n",
       "    </tr>\n",
       "    <tr>\n",
       "      <th>4</th>\n",
       "      <td>5008809</td>\n",
       "      <td>F</td>\n",
       "      <td>N</td>\n",
       "      <td>Y</td>\n",
       "      <td>0</td>\n",
       "      <td>270000.0</td>\n",
       "      <td>Commercial associate</td>\n",
       "      <td>Secondary / secondary special</td>\n",
       "      <td>Single / not married</td>\n",
       "      <td>House / apartment</td>\n",
       "      <td>-19110</td>\n",
       "      <td>-3051</td>\n",
       "      <td>1</td>\n",
       "      <td>0</td>\n",
       "      <td>1</td>\n",
       "      <td>1</td>\n",
       "      <td>Sales staff</td>\n",
       "      <td>1.0</td>\n",
       "    </tr>\n",
       "  </tbody>\n",
       "</table>\n",
       "</div>"
      ],
      "text/plain": [
       "        ID CODE_GENDER FLAG_OWN_CAR FLAG_OWN_REALTY  CNT_CHILDREN  \\\n",
       "0  5008804           M            Y               Y             0   \n",
       "1  5008805           M            Y               Y             0   \n",
       "2  5008806           M            Y               Y             0   \n",
       "3  5008808           F            N               Y             0   \n",
       "4  5008809           F            N               Y             0   \n",
       "\n",
       "   AMT_INCOME_TOTAL      NAME_INCOME_TYPE            NAME_EDUCATION_TYPE  \\\n",
       "0          427500.0               Working               Higher education   \n",
       "1          427500.0               Working               Higher education   \n",
       "2          112500.0               Working  Secondary / secondary special   \n",
       "3          270000.0  Commercial associate  Secondary / secondary special   \n",
       "4          270000.0  Commercial associate  Secondary / secondary special   \n",
       "\n",
       "     NAME_FAMILY_STATUS  NAME_HOUSING_TYPE  DAYS_BIRTH  DAYS_EMPLOYED  \\\n",
       "0        Civil marriage   Rented apartment      -12005          -4542   \n",
       "1        Civil marriage   Rented apartment      -12005          -4542   \n",
       "2               Married  House / apartment      -21474          -1134   \n",
       "3  Single / not married  House / apartment      -19110          -3051   \n",
       "4  Single / not married  House / apartment      -19110          -3051   \n",
       "\n",
       "   FLAG_MOBIL  FLAG_WORK_PHONE  FLAG_PHONE  FLAG_EMAIL OCCUPATION_TYPE  \\\n",
       "0           1                1           0           0             NaN   \n",
       "1           1                1           0           0             NaN   \n",
       "2           1                0           0           0  Security staff   \n",
       "3           1                0           1           1     Sales staff   \n",
       "4           1                0           1           1     Sales staff   \n",
       "\n",
       "   CNT_FAM_MEMBERS  \n",
       "0              2.0  \n",
       "1              2.0  \n",
       "2              2.0  \n",
       "3              1.0  \n",
       "4              1.0  "
      ]
     },
     "execution_count": 321,
     "metadata": {},
     "output_type": "execute_result"
    }
   ],
   "source": [
    "\n",
    "dfPeople.head()"
   ]
  },
  {
   "cell_type": "markdown",
   "metadata": {},
   "source": [
    "В таблице crr собраны данные о том, как клиенты пользовались кредитной картой.\n",
    "\n",
    "\n",
    "колонка MONTHS_BALANCE показывает, сколько месяцев прошло с начала занесения человека в базу данных.\n",
    "Идет в обратном порядке:\n",
    "    \n",
    "0--человека добавили в базу данных в этом месяце,\n",
    "\n",
    "-1 -- человека добавили в базу данных месяц назад,\n",
    "\n",
    "-2 -- 2 месяца назад и т.д.\n",
    "\n",
    "Информация с этой колонки в целом не нужна.\n",
    "\n",
    "\n",
    "Нас интересует колонка STATUS c данными о том, насколько просрочено погашение долга в этом месяце\n",
    "\n",
    "В ней встречаются следущие значения:\n",
    "\n",
    "0: 1-29 дней просрочки\n",
    "\n",
    "1: 30-59 дней просрочки\n",
    "\n",
    "2: 60-89 дней просрочки\n",
    "\n",
    "3: 90-119 дней просрочки\n",
    "\n",
    "4: 120-149 дней просрочки\n",
    "\n",
    "С: долг был погашен в этом месяце\n",
    "\n",
    "X: найма не было в этом месяце \n"
   ]
  },
  {
   "cell_type": "code",
   "execution_count": 322,
   "metadata": {},
   "outputs": [],
   "source": [
    "crr=pd.read_csv(\"credit_record.csv\")"
   ]
  },
  {
   "cell_type": "code",
   "execution_count": 323,
   "metadata": {},
   "outputs": [
    {
     "data": {
      "text/html": [
       "<div>\n",
       "<style scoped>\n",
       "    .dataframe tbody tr th:only-of-type {\n",
       "        vertical-align: middle;\n",
       "    }\n",
       "\n",
       "    .dataframe tbody tr th {\n",
       "        vertical-align: top;\n",
       "    }\n",
       "\n",
       "    .dataframe thead th {\n",
       "        text-align: right;\n",
       "    }\n",
       "</style>\n",
       "<table border=\"1\" class=\"dataframe\">\n",
       "  <thead>\n",
       "    <tr style=\"text-align: right;\">\n",
       "      <th></th>\n",
       "      <th>ID</th>\n",
       "      <th>MONTHS_BALANCE</th>\n",
       "      <th>STATUS</th>\n",
       "    </tr>\n",
       "  </thead>\n",
       "  <tbody>\n",
       "    <tr>\n",
       "      <th>36020</th>\n",
       "      <td>5003324</td>\n",
       "      <td>-30</td>\n",
       "      <td>X</td>\n",
       "    </tr>\n",
       "    <tr>\n",
       "      <th>416229</th>\n",
       "      <td>5048623</td>\n",
       "      <td>-39</td>\n",
       "      <td>0</td>\n",
       "    </tr>\n",
       "    <tr>\n",
       "      <th>838135</th>\n",
       "      <td>5117632</td>\n",
       "      <td>-3</td>\n",
       "      <td>X</td>\n",
       "    </tr>\n",
       "    <tr>\n",
       "      <th>246976</th>\n",
       "      <td>5022734</td>\n",
       "      <td>-28</td>\n",
       "      <td>C</td>\n",
       "    </tr>\n",
       "    <tr>\n",
       "      <th>747075</th>\n",
       "      <td>5105316</td>\n",
       "      <td>-30</td>\n",
       "      <td>0</td>\n",
       "    </tr>\n",
       "    <tr>\n",
       "      <th>254685</th>\n",
       "      <td>5023186</td>\n",
       "      <td>-4</td>\n",
       "      <td>C</td>\n",
       "    </tr>\n",
       "    <tr>\n",
       "      <th>766747</th>\n",
       "      <td>5112703</td>\n",
       "      <td>-11</td>\n",
       "      <td>C</td>\n",
       "    </tr>\n",
       "    <tr>\n",
       "      <th>662213</th>\n",
       "      <td>5090763</td>\n",
       "      <td>-20</td>\n",
       "      <td>X</td>\n",
       "    </tr>\n",
       "    <tr>\n",
       "      <th>102395</th>\n",
       "      <td>5009396</td>\n",
       "      <td>-20</td>\n",
       "      <td>C</td>\n",
       "    </tr>\n",
       "    <tr>\n",
       "      <th>68588</th>\n",
       "      <td>5004767</td>\n",
       "      <td>-5</td>\n",
       "      <td>C</td>\n",
       "    </tr>\n",
       "  </tbody>\n",
       "</table>\n",
       "</div>"
      ],
      "text/plain": [
       "             ID  MONTHS_BALANCE STATUS\n",
       "36020   5003324             -30      X\n",
       "416229  5048623             -39      0\n",
       "838135  5117632              -3      X\n",
       "246976  5022734             -28      C\n",
       "747075  5105316             -30      0\n",
       "254685  5023186              -4      C\n",
       "766747  5112703             -11      C\n",
       "662213  5090763             -20      X\n",
       "102395  5009396             -20      C\n",
       "68588   5004767              -5      C"
      ]
     },
     "execution_count": 323,
     "metadata": {},
     "output_type": "execute_result"
    }
   ],
   "source": [
    "crr.sample(10)"
   ]
  },
  {
   "cell_type": "markdown",
   "metadata": {},
   "source": [
    "По колонке STATUS сформируем целевую переменную:\n",
    "    \n",
    "для каждого ID найдем максимальную просрочку max_delay и добавим такой столбец к табличке dfPeople.\n",
    "\n",
    "Если max_delay>=2, то такого клиента считаем плохим, иначе хорошим.\n",
    "\n",
    "Создадим колонку CREDIT_ACCEPT, которая принимает значение 1 у хороших клиентов и 0 у плохих клиентов, т.е показывает, стоит выдавать кредит такому клиенту или нет.\n",
    "\n",
    "Это и будет наша целевая переменная."
   ]
  },
  {
   "cell_type": "code",
   "execution_count": 324,
   "metadata": {},
   "outputs": [],
   "source": [
    "crr['STATUS']=crr['STATUS'].apply(lambda x: '-1' if x=='C' else x)\n",
    "crr['STATUS']=crr['STATUS'].apply(lambda x: '-2' if x=='X' else x)\n",
    "crr['STATUS']=crr['STATUS'].astype(int)"
   ]
  },
  {
   "cell_type": "code",
   "execution_count": 325,
   "metadata": {},
   "outputs": [],
   "source": [
    "max_delay=crr.groupby('ID')['STATUS'].max()"
   ]
  },
  {
   "cell_type": "code",
   "execution_count": 326,
   "metadata": {},
   "outputs": [],
   "source": [
    "#соединим таблицы\n",
    "data = pd.merge(dfPeople, max_delay, how='inner', left_on='ID', right_on='ID')"
   ]
  },
  {
   "cell_type": "code",
   "execution_count": 327,
   "metadata": {},
   "outputs": [],
   "source": [
    "#переведем статус в 0 и 1\n",
    "data['STATUS']=data['STATUS'].apply(lambda x: 0 if x>2 else 1)"
   ]
  },
  {
   "cell_type": "markdown",
   "metadata": {},
   "source": [
    "по таблице видно, что у нас есть записи о одних и тех же клиентах под разным ID.\n",
    "\n",
    "Сделаем так, что бы для каждого клиента учитывалась только максимальная просрочка."
   ]
  },
  {
   "cell_type": "code",
   "execution_count": 328,
   "metadata": {},
   "outputs": [],
   "source": [
    "#уберем колонку ID\n",
    "data.drop(columns='ID',inplace=True)"
   ]
  },
  {
   "cell_type": "code",
   "execution_count": 329,
   "metadata": {},
   "outputs": [],
   "source": [
    "#в этой колонке много пропусков, по ощущениям она не очень важная, и лучше удалить её сейчас, так будет удобней\n",
    "data.drop(columns='OCCUPATION_TYPE',inplace=True)"
   ]
  },
  {
   "cell_type": "code",
   "execution_count": 330,
   "metadata": {},
   "outputs": [],
   "source": [
    "#DROP duplicates так, что у людей с одинковыми колонками было только макс debt\n",
    "feature_cols=data.iloc[:,:-1].columns.tolist()\n"
   ]
  },
  {
   "cell_type": "code",
   "execution_count": 331,
   "metadata": {},
   "outputs": [],
   "source": [
    "data=data.groupby(feature_cols).agg({'STATUS': 'min'}).reset_index()\n"
   ]
  },
  {
   "cell_type": "code",
   "execution_count": 332,
   "metadata": {},
   "outputs": [],
   "source": [
    "data.rename(columns={'STATUS': 'CREDIT_ACCEPT'}, inplace=True)\n"
   ]
  },
  {
   "cell_type": "code",
   "execution_count": 333,
   "metadata": {},
   "outputs": [
    {
     "data": {
      "text/plain": [
       "1    9509\n",
       "0     219\n",
       "Name: CREDIT_ACCEPT, dtype: int64"
      ]
     },
     "execution_count": 333,
     "metadata": {},
     "output_type": "execute_result"
    }
   ],
   "source": [
    "data['CREDIT_ACCEPT'].value_counts()"
   ]
  },
  {
   "cell_type": "code",
   "execution_count": 334,
   "metadata": {},
   "outputs": [
    {
     "name": "stdout",
     "output_type": "stream",
     "text": [
      "Процент клиентов в зоне риска = 2.3%\n"
     ]
    }
   ],
   "source": [
    "risk_prc=data['CREDIT_ACCEPT'].value_counts()[0]/data['CREDIT_ACCEPT'].value_counts()[1]\n",
    "print(f\"Процент клиентов в зоне риска = {risk_prc*100:.1f}%\")\n"
   ]
  },
  {
   "cell_type": "markdown",
   "metadata": {},
   "source": [
    "Разделение на плохих и хороших клиентов было выбрано именно так, потому что плохие клиенты должны составлять 1-3%(прочитал в интернете, своих знаний в области маловато)"
   ]
  },
  {
   "cell_type": "markdown",
   "metadata": {},
   "source": [
    "# ТАБЛИЦА ПОДГОТОВЛЕНА"
   ]
  },
  {
   "cell_type": "markdown",
   "metadata": {},
   "source": [
    "# Шаг 2. Обработка данных"
   ]
  },
  {
   "cell_type": "code",
   "execution_count": 335,
   "metadata": {},
   "outputs": [
    {
     "data": {
      "text/html": [
       "<div>\n",
       "<style scoped>\n",
       "    .dataframe tbody tr th:only-of-type {\n",
       "        vertical-align: middle;\n",
       "    }\n",
       "\n",
       "    .dataframe tbody tr th {\n",
       "        vertical-align: top;\n",
       "    }\n",
       "\n",
       "    .dataframe thead th {\n",
       "        text-align: right;\n",
       "    }\n",
       "</style>\n",
       "<table border=\"1\" class=\"dataframe\">\n",
       "  <thead>\n",
       "    <tr style=\"text-align: right;\">\n",
       "      <th></th>\n",
       "      <th>CODE_GENDER</th>\n",
       "      <th>FLAG_OWN_CAR</th>\n",
       "      <th>FLAG_OWN_REALTY</th>\n",
       "      <th>CNT_CHILDREN</th>\n",
       "      <th>AMT_INCOME_TOTAL</th>\n",
       "      <th>NAME_INCOME_TYPE</th>\n",
       "      <th>NAME_EDUCATION_TYPE</th>\n",
       "      <th>NAME_FAMILY_STATUS</th>\n",
       "      <th>NAME_HOUSING_TYPE</th>\n",
       "      <th>DAYS_BIRTH</th>\n",
       "      <th>DAYS_EMPLOYED</th>\n",
       "      <th>FLAG_MOBIL</th>\n",
       "      <th>FLAG_WORK_PHONE</th>\n",
       "      <th>FLAG_PHONE</th>\n",
       "      <th>FLAG_EMAIL</th>\n",
       "      <th>CNT_FAM_MEMBERS</th>\n",
       "      <th>CREDIT_ACCEPT</th>\n",
       "    </tr>\n",
       "  </thead>\n",
       "  <tbody>\n",
       "    <tr>\n",
       "      <th>0</th>\n",
       "      <td>F</td>\n",
       "      <td>N</td>\n",
       "      <td>N</td>\n",
       "      <td>0</td>\n",
       "      <td>27000.0</td>\n",
       "      <td>Working</td>\n",
       "      <td>Higher education</td>\n",
       "      <td>Civil marriage</td>\n",
       "      <td>House / apartment</td>\n",
       "      <td>-14869</td>\n",
       "      <td>-5067</td>\n",
       "      <td>1</td>\n",
       "      <td>1</td>\n",
       "      <td>0</td>\n",
       "      <td>0</td>\n",
       "      <td>2.0</td>\n",
       "      <td>1</td>\n",
       "    </tr>\n",
       "    <tr>\n",
       "      <th>1</th>\n",
       "      <td>F</td>\n",
       "      <td>N</td>\n",
       "      <td>N</td>\n",
       "      <td>0</td>\n",
       "      <td>31500.0</td>\n",
       "      <td>Pensioner</td>\n",
       "      <td>Secondary / secondary special</td>\n",
       "      <td>Married</td>\n",
       "      <td>House / apartment</td>\n",
       "      <td>-20836</td>\n",
       "      <td>365243</td>\n",
       "      <td>1</td>\n",
       "      <td>0</td>\n",
       "      <td>0</td>\n",
       "      <td>0</td>\n",
       "      <td>2.0</td>\n",
       "      <td>1</td>\n",
       "    </tr>\n",
       "    <tr>\n",
       "      <th>2</th>\n",
       "      <td>F</td>\n",
       "      <td>N</td>\n",
       "      <td>N</td>\n",
       "      <td>0</td>\n",
       "      <td>33300.0</td>\n",
       "      <td>Pensioner</td>\n",
       "      <td>Secondary / secondary special</td>\n",
       "      <td>Married</td>\n",
       "      <td>Office apartment</td>\n",
       "      <td>-19605</td>\n",
       "      <td>365243</td>\n",
       "      <td>1</td>\n",
       "      <td>0</td>\n",
       "      <td>0</td>\n",
       "      <td>0</td>\n",
       "      <td>2.0</td>\n",
       "      <td>1</td>\n",
       "    </tr>\n",
       "    <tr>\n",
       "      <th>3</th>\n",
       "      <td>F</td>\n",
       "      <td>N</td>\n",
       "      <td>N</td>\n",
       "      <td>0</td>\n",
       "      <td>33750.0</td>\n",
       "      <td>Pensioner</td>\n",
       "      <td>Higher education</td>\n",
       "      <td>Married</td>\n",
       "      <td>House / apartment</td>\n",
       "      <td>-19054</td>\n",
       "      <td>365243</td>\n",
       "      <td>1</td>\n",
       "      <td>0</td>\n",
       "      <td>0</td>\n",
       "      <td>0</td>\n",
       "      <td>2.0</td>\n",
       "      <td>1</td>\n",
       "    </tr>\n",
       "    <tr>\n",
       "      <th>4</th>\n",
       "      <td>F</td>\n",
       "      <td>N</td>\n",
       "      <td>N</td>\n",
       "      <td>0</td>\n",
       "      <td>36000.0</td>\n",
       "      <td>Working</td>\n",
       "      <td>Secondary / secondary special</td>\n",
       "      <td>Married</td>\n",
       "      <td>With parents</td>\n",
       "      <td>-14500</td>\n",
       "      <td>-459</td>\n",
       "      <td>1</td>\n",
       "      <td>1</td>\n",
       "      <td>0</td>\n",
       "      <td>0</td>\n",
       "      <td>2.0</td>\n",
       "      <td>0</td>\n",
       "    </tr>\n",
       "  </tbody>\n",
       "</table>\n",
       "</div>"
      ],
      "text/plain": [
       "  CODE_GENDER FLAG_OWN_CAR FLAG_OWN_REALTY  CNT_CHILDREN  AMT_INCOME_TOTAL  \\\n",
       "0           F            N               N             0           27000.0   \n",
       "1           F            N               N             0           31500.0   \n",
       "2           F            N               N             0           33300.0   \n",
       "3           F            N               N             0           33750.0   \n",
       "4           F            N               N             0           36000.0   \n",
       "\n",
       "  NAME_INCOME_TYPE            NAME_EDUCATION_TYPE NAME_FAMILY_STATUS  \\\n",
       "0          Working               Higher education     Civil marriage   \n",
       "1        Pensioner  Secondary / secondary special            Married   \n",
       "2        Pensioner  Secondary / secondary special            Married   \n",
       "3        Pensioner               Higher education            Married   \n",
       "4          Working  Secondary / secondary special            Married   \n",
       "\n",
       "   NAME_HOUSING_TYPE  DAYS_BIRTH  DAYS_EMPLOYED  FLAG_MOBIL  FLAG_WORK_PHONE  \\\n",
       "0  House / apartment      -14869          -5067           1                1   \n",
       "1  House / apartment      -20836         365243           1                0   \n",
       "2   Office apartment      -19605         365243           1                0   \n",
       "3  House / apartment      -19054         365243           1                0   \n",
       "4       With parents      -14500           -459           1                1   \n",
       "\n",
       "   FLAG_PHONE  FLAG_EMAIL  CNT_FAM_MEMBERS  CREDIT_ACCEPT  \n",
       "0           0           0              2.0              1  \n",
       "1           0           0              2.0              1  \n",
       "2           0           0              2.0              1  \n",
       "3           0           0              2.0              1  \n",
       "4           0           0              2.0              0  "
      ]
     },
     "execution_count": 335,
     "metadata": {},
     "output_type": "execute_result"
    }
   ],
   "source": [
    "data.head()"
   ]
  },
  {
   "cell_type": "code",
   "execution_count": 336,
   "metadata": {},
   "outputs": [
    {
     "name": "stdout",
     "output_type": "stream",
     "text": [
      "<class 'pandas.core.frame.DataFrame'>\n",
      "RangeIndex: 9728 entries, 0 to 9727\n",
      "Data columns (total 17 columns):\n",
      " #   Column               Non-Null Count  Dtype  \n",
      "---  ------               --------------  -----  \n",
      " 0   CODE_GENDER          9728 non-null   object \n",
      " 1   FLAG_OWN_CAR         9728 non-null   object \n",
      " 2   FLAG_OWN_REALTY      9728 non-null   object \n",
      " 3   CNT_CHILDREN         9728 non-null   int64  \n",
      " 4   AMT_INCOME_TOTAL     9728 non-null   float64\n",
      " 5   NAME_INCOME_TYPE     9728 non-null   object \n",
      " 6   NAME_EDUCATION_TYPE  9728 non-null   object \n",
      " 7   NAME_FAMILY_STATUS   9728 non-null   object \n",
      " 8   NAME_HOUSING_TYPE    9728 non-null   object \n",
      " 9   DAYS_BIRTH           9728 non-null   int64  \n",
      " 10  DAYS_EMPLOYED        9728 non-null   int64  \n",
      " 11  FLAG_MOBIL           9728 non-null   int64  \n",
      " 12  FLAG_WORK_PHONE      9728 non-null   int64  \n",
      " 13  FLAG_PHONE           9728 non-null   int64  \n",
      " 14  FLAG_EMAIL           9728 non-null   int64  \n",
      " 15  CNT_FAM_MEMBERS      9728 non-null   float64\n",
      " 16  CREDIT_ACCEPT        9728 non-null   int64  \n",
      "dtypes: float64(2), int64(8), object(7)\n",
      "memory usage: 1.3+ MB\n"
     ]
    }
   ],
   "source": [
    "data.info()"
   ]
  },
  {
   "cell_type": "code",
   "execution_count": null,
   "metadata": {},
   "outputs": [],
   "source": []
  },
  {
   "cell_type": "markdown",
   "metadata": {},
   "source": [
    "закодируем Code_GENDER, FLAG_OWN_CAR, FLAG_OWN_REALTY в числа\n"
   ]
  },
  {
   "cell_type": "code",
   "execution_count": 337,
   "metadata": {},
   "outputs": [],
   "source": [
    "data['CODE_GENDER']=data['CODE_GENDER'].apply(lambda x: 1 if x=='F' else 0)"
   ]
  },
  {
   "cell_type": "code",
   "execution_count": 338,
   "metadata": {},
   "outputs": [],
   "source": [
    "data['FLAG_OWN_CAR']=data['FLAG_OWN_CAR'].apply(lambda x: 1 if x=='Y' else 0)\n",
    "data['FLAG_OWN_REALTY']=data['FLAG_OWN_REALTY'].apply(lambda x: 1 if x=='Y' else 0)"
   ]
  },
  {
   "cell_type": "markdown",
   "metadata": {},
   "source": [
    "Закодируем EDUCATION TYPE порядковым образом\n",
    "\n"
   ]
  },
  {
   "cell_type": "code",
   "execution_count": 339,
   "metadata": {},
   "outputs": [],
   "source": [
    "def code_ed_type(s):\n",
    "    if(s=='Lower secondary'):\n",
    "        return 1\n",
    "    elif(s=='Secondary / secondary special'):\n",
    "        return 2\n",
    "    elif(s=='Incomplete higher'):\n",
    "        return 3\n",
    "    elif(s=='Higher education'):\n",
    "        return 4\n",
    "    else:\n",
    "        return 5"
   ]
  },
  {
   "cell_type": "code",
   "execution_count": 340,
   "metadata": {},
   "outputs": [],
   "source": [
    "data['NAME_EDUCATION_TYPE']=data['NAME_EDUCATION_TYPE'].apply(lambda x: code_ed_type(x))"
   ]
  },
  {
   "cell_type": "markdown",
   "metadata": {},
   "source": [
    "Разберемся с DAYS_EMPLOYED\n"
   ]
  },
  {
   "cell_type": "code",
   "execution_count": 341,
   "metadata": {},
   "outputs": [
    {
     "name": "stdout",
     "output_type": "stream",
     "text": [
      "365243\n"
     ]
    },
    {
     "data": {
      "text/plain": [
       "<AxesSubplot:>"
      ]
     },
     "execution_count": 341,
     "metadata": {},
     "output_type": "execute_result"
    },
    {
     "data": {
      "image/png": "[encoded data removed]",
      "text/plain": [
       "<Figure size 432x288 with 1 Axes>"
      ]
     },
     "metadata": {
      "needs_background": "light"
     },
     "output_type": "display_data"
    }
   ],
   "source": [
    "#Разберемся с DAYS_BIRTH и DAYS_EMPLOYED\n",
    "#data[data['DAYS_EMPLOYED']!=data['DAYS_EMPLOYED'].mode[0]]\n",
    "nulls=data['DAYS_EMPLOYED'].mode()[0]\n",
    "print(nulls)\n",
    "med=int(data[data['DAYS_EMPLOYED'] != nulls]['DAYS_EMPLOYED'].median())\n",
    "data['DAYS_EMPLOYED'].hist(bins=50, edgecolor='black')"
   ]
  },
  {
   "cell_type": "markdown",
   "metadata": {},
   "source": [
    "Видим, что значение 365243 используется как пропуск\n",
    "\n",
    "В строках, где встречается это значение, мы заменим его на медиану по оставшимся строкам"
   ]
  },
  {
   "cell_type": "code",
   "execution_count": 342,
   "metadata": {},
   "outputs": [],
   "source": [
    "data['DAYS_EMPLOYED']=data['DAYS_EMPLOYED'].apply(lambda x: med if x==nulls else x)"
   ]
  },
  {
   "cell_type": "code",
   "execution_count": 343,
   "metadata": {},
   "outputs": [
    {
     "data": {
      "text/plain": [
       "-2384.0412212171054"
      ]
     },
     "execution_count": 343,
     "metadata": {},
     "output_type": "execute_result"
    }
   ],
   "source": [
    "data['DAYS_EMPLOYED'].mean()"
   ]
  },
  {
   "cell_type": "code",
   "execution_count": 344,
   "metadata": {},
   "outputs": [
    {
     "data": {
      "text/plain": [
       "<AxesSubplot:>"
      ]
     },
     "execution_count": 344,
     "metadata": {},
     "output_type": "execute_result"
    },
    {
     "data": {
      "image/png": "[encoded data removed]",
      "text/plain": [
       "<Figure size 432x288 with 1 Axes>"
      ]
     },
     "metadata": {
      "needs_background": "light"
     },
     "output_type": "display_data"
    }
   ],
   "source": [
    "data['DAYS_EMPLOYED'].hist(bins=50, edgecolor='black')"
   ]
  },
  {
   "cell_type": "code",
   "execution_count": 345,
   "metadata": {},
   "outputs": [
    {
     "data": {
      "text/plain": [
       "1    9728\n",
       "Name: FLAG_MOBIL, dtype: int64"
      ]
     },
     "execution_count": 345,
     "metadata": {},
     "output_type": "execute_result"
    }
   ],
   "source": [
    "data['FLAG_MOBIL'].value_counts()"
   ]
  },
  {
   "cell_type": "markdown",
   "metadata": {},
   "source": [
    "признак FLAG_MOBIL принимает только значение 1, поэтому не дает информации, уберем его."
   ]
  },
  {
   "cell_type": "code",
   "execution_count": 346,
   "metadata": {},
   "outputs": [],
   "source": [
    "data.drop(columns=['FLAG_MOBIL'],inplace=True)"
   ]
  },
  {
   "cell_type": "code",
   "execution_count": 347,
   "metadata": {},
   "outputs": [
    {
     "name": "stdout",
     "output_type": "stream",
     "text": [
      "<class 'pandas.core.frame.DataFrame'>\n",
      "RangeIndex: 9728 entries, 0 to 9727\n",
      "Data columns (total 16 columns):\n",
      " #   Column               Non-Null Count  Dtype  \n",
      "---  ------               --------------  -----  \n",
      " 0   CODE_GENDER          9728 non-null   int64  \n",
      " 1   FLAG_OWN_CAR         9728 non-null   int64  \n",
      " 2   FLAG_OWN_REALTY      9728 non-null   int64  \n",
      " 3   CNT_CHILDREN         9728 non-null   int64  \n",
      " 4   AMT_INCOME_TOTAL     9728 non-null   float64\n",
      " 5   NAME_INCOME_TYPE     9728 non-null   object \n",
      " 6   NAME_EDUCATION_TYPE  9728 non-null   int64  \n",
      " 7   NAME_FAMILY_STATUS   9728 non-null   object \n",
      " 8   NAME_HOUSING_TYPE    9728 non-null   object \n",
      " 9   DAYS_BIRTH           9728 non-null   int64  \n",
      " 10  DAYS_EMPLOYED        9728 non-null   int64  \n",
      " 11  FLAG_WORK_PHONE      9728 non-null   int64  \n",
      " 12  FLAG_PHONE           9728 non-null   int64  \n",
      " 13  FLAG_EMAIL           9728 non-null   int64  \n",
      " 14  CNT_FAM_MEMBERS      9728 non-null   float64\n",
      " 15  CREDIT_ACCEPT        9728 non-null   int64  \n",
      "dtypes: float64(2), int64(11), object(3)\n",
      "memory usage: 1.2+ MB\n"
     ]
    }
   ],
   "source": [
    "data.info()"
   ]
  },
  {
   "cell_type": "markdown",
   "metadata": {},
   "source": [
    "переведем столбцы типа float в int. Ничего не потеряем, так как в этих столбцах все равно стоят целые числа"
   ]
  },
  {
   "cell_type": "code",
   "execution_count": 348,
   "metadata": {},
   "outputs": [],
   "source": [
    "\n",
    "data['AMT_INCOME_TOTAL']=data['AMT_INCOME_TOTAL'].astype(int)\n",
    "data['CNT_FAM_MEMBERS']=data['CNT_FAM_MEMBERS'].astype(int)"
   ]
  },
  {
   "cell_type": "markdown",
   "metadata": {},
   "source": [
    "оставшиеся категориальные столбцы закодируем с помощью One-Hot encoding"
   ]
  },
  {
   "cell_type": "code",
   "execution_count": 349,
   "metadata": {},
   "outputs": [],
   "source": [
    "\n",
    "data=pd.get_dummies(data,drop_first=True)"
   ]
  },
  {
   "cell_type": "code",
   "execution_count": 350,
   "metadata": {},
   "outputs": [],
   "source": [
    "data['CREDIT_ACCEPT2']=data['CREDIT_ACCEPT']\n",
    "data.drop(columns='CREDIT_ACCEPT',inplace=True)\n",
    "data = data.rename(columns={'CREDIT_ACCEPT2': 'CREDIT_ACCEPT'})"
   ]
  },
  {
   "cell_type": "markdown",
   "metadata": {},
   "source": [
    "# SMOTE\n",
    "\n"
   ]
  },
  {
   "cell_type": "code",
   "execution_count": 351,
   "metadata": {},
   "outputs": [],
   "source": [
    "from imblearn.over_sampling import SMOTE\n",
    "smote = SMOTE()"
   ]
  },
  {
   "cell_type": "markdown",
   "metadata": {},
   "source": [
    "# ШАГ 3 Построение моделей"
   ]
  },
  {
   "cell_type": "code",
   "execution_count": 359,
   "metadata": {},
   "outputs": [],
   "source": [
    "from sklearn.model_selection import train_test_split\n",
    "from sklearn.preprocessing import StandardScaler\n",
    "from sklearn.linear_model import LogisticRegression\n",
    "from sklearn.metrics import roc_auc_score\n",
    "from catboost import CatBoostClassifier, Pool, metrics, cv\n",
    "from sklearn.metrics import accuracy_score,f1_score\n",
    "from sklearn.ensemble import RandomForestClassifier\n",
    "from imblearn.over_sampling import SMOTE\n",
    "from sklearn.model_selection import train_test_split, cross_val_score, GridSearchCV"
   ]
  },
  {
   "cell_type": "code",
   "execution_count": 360,
   "metadata": {},
   "outputs": [],
   "source": [
    "X=data.drop(columns='CREDIT_ACCEPT')\n",
    "y=data['CREDIT_ACCEPT']\n",
    "Xtrain,Xtest,ytrain,ytest=train_test_split(X,y,stratify=y,test_size=0.25, random_state=42)"
   ]
  },
  {
   "cell_type": "code",
   "execution_count": 361,
   "metadata": {},
   "outputs": [],
   "source": [
    "scaler=StandardScaler()\n",
    "scaler.fit(Xtrain)\n",
    "Xtrain=pd.DataFrame(scaler.transform(Xtrain),columns=Xtrain.columns)\n",
    "Xtest=pd.DataFrame(scaler.transform(Xtest),columns=Xtest.columns)"
   ]
  },
  {
   "cell_type": "code",
   "execution_count": 362,
   "metadata": {},
   "outputs": [],
   "source": [
    "Xtrain, ytrain = smote.fit_resample(Xtrain, ytrain)"
   ]
  },
  {
   "cell_type": "markdown",
   "metadata": {},
   "source": [
    "# 3.1 Логистическая регрессия"
   ]
  },
  {
   "cell_type": "code",
   "execution_count": 363,
   "metadata": {},
   "outputs": [],
   "source": [
    "lr=LogisticRegression()\n",
    "lr.fit(Xtrain,ytrain)\n",
    "pred_lr_prob_train=lr.predict_proba(Xtrain)[:,1]\n",
    "pred_lr_prob_test=lr.predict_proba(Xtest)[:,1]\n",
    "pred_lr=lr.predict(Xtest)"
   ]
  },
  {
   "cell_type": "code",
   "execution_count": 364,
   "metadata": {},
   "outputs": [
    {
     "name": "stdout",
     "output_type": "stream",
     "text": [
      "[0.44986162 0.41639763 0.50681563 ... 0.43101985 0.49769786 0.40344234]\n"
     ]
    }
   ],
   "source": [
    "print(pred_lr_prob_test)"
   ]
  },
  {
   "cell_type": "code",
   "execution_count": 366,
   "metadata": {},
   "outputs": [
    {
     "name": "stdout",
     "output_type": "stream",
     "text": [
      "Логистическая Регрессия\n",
      "ROC-AUC(train)= 0.678\n",
      "ROC-AUC(test) = 0.506\n",
      "0.7207015678979537\n"
     ]
    }
   ],
   "source": [
    "\n",
    "print(\"Логистическая Регрессия\")\n",
    "print(f\"ROC-AUC(train)= {roc_auc_score(ytrain,pred_lr_prob_train):.3f}\")\n",
    "print(f\"ROC-AUC(test) = {roc_auc_score(ytest,pred_lr_prob_test):.3f}\")\n",
    "print(f1_score(ytest,pred_lr))"
   ]
  },
  {
   "cell_type": "code",
   "execution_count": 313,
   "metadata": {},
   "outputs": [
    {
     "name": "stdout",
     "output_type": "stream",
     "text": [
      "[[ 0.20424544  0.25811792  0.14733165  0.99484379 -0.10614396 -0.05600873\n",
      "   0.23986438 -0.24314677  0.01125331 -0.17575028  0.06973058 -1.13535267\n",
      "   0.01214332 -0.00649135  0.12192157 -0.00521072 -0.76212223 -0.68215633\n",
      "  -0.94951646 -0.50032681  0.18489324 -0.06717588  0.1413559   0.0328777\n",
      "   0.49612596]]\n"
     ]
    }
   ],
   "source": [
    "print(lr.coef_)"
   ]
  },
  {
   "cell_type": "code",
   "execution_count": 314,
   "metadata": {},
   "outputs": [
    {
     "data": {
      "image/png": "[encoded data removed]",
      "text/plain": [
       "<Figure size 576x432 with 1 Axes>"
      ]
     },
     "metadata": {
      "needs_background": "light"
     },
     "output_type": "display_data"
    }
   ],
   "source": [
    "from sklearn.metrics import roc_curve, auc\n",
    "fpr, tpr, _ = roc_curve(ytest, pred_lr_prob_test)  # Вычисляем точки ROC-кривой\n",
    "roc_auc = auc(fpr, tpr)\n",
    "plt.figure(figsize=(8, 6))\n",
    "plt.plot(fpr, tpr, color='blue', lw=2, label=f'ROC curve (area = {roc_auc:.2f})')  \n",
    "plt.plot([0, 1], [0, 1], color='gray', linestyle='--')  # Диагональ случайного классификатора\n",
    "plt.xlim([0.0, 1.0])\n",
    "plt.ylim([0.0, 1.05])\n",
    "plt.xlabel('False Positive Rate')\n",
    "plt.ylabel('True Positive Rate')\n",
    "plt.title('Receiver Operating Characteristic (ROC) Curve')\n",
    "plt.legend(loc='lower right')\n",
    "plt.grid()\n",
    "plt.show()"
   ]
  },
  {
   "cell_type": "markdown",
   "metadata": {},
   "source": [
    "Модель переобучилась"
   ]
  },
  {
   "cell_type": "markdown",
   "metadata": {},
   "source": [
    "# 3.2 CatBoost"
   ]
  },
  {
   "cell_type": "code",
   "execution_count": 317,
   "metadata": {},
   "outputs": [],
   "source": [
    "cbc = CatBoostClassifier(\n",
    "    learning_rate=1,\n",
    "    eval_metric='AUC',\n",
    "    auto_class_weights='Balanced',\n",
    "    random_seed=42,\n",
    "    logging_level='Silent'\n",
    ")\n"
   ]
  },
  {
   "cell_type": "code",
   "execution_count": 318,
   "metadata": {},
   "outputs": [
    {
     "data": {
      "application/vnd.jupyter.widget-view+json": {
       "model_id": "32b92587b43147db88727b3e6fc99a2f",
       "version_major": 2,
       "version_minor": 0
      },
      "text/plain": [
       "MetricVisualizer(layout=Layout(align_self='stretch', height='500px'))"
      ]
     },
     "metadata": {},
     "output_type": "display_data"
    },
    {
     "data": {
      "text/plain": [
       "<catboost.core.CatBoostClassifier at 0x1f4605bc820>"
      ]
     },
     "execution_count": 318,
     "metadata": {},
     "output_type": "execute_result"
    }
   ],
   "source": [
    "cbc.fit(\n",
    "    Xtrain, ytrain,\n",
    "    eval_set=(Xtest, ytest),\n",
    "    plot=True\n",
    ")"
   ]
  },
  {
   "cell_type": "markdown",
   "metadata": {},
   "source": [
    "# 3.3 Cлучайный лес"
   ]
  },
  {
   "cell_type": "code",
   "execution_count": 233,
   "metadata": {},
   "outputs": [
    {
     "name": "stdout",
     "output_type": "stream",
     "text": [
      "Fitting 3 folds for each of 28 candidates, totalling 84 fits\n",
      "[CV 1/3] END .....max_depth=10, n_estimators=10;, score=0.981 total time=   0.0s\n",
      "[CV 2/3] END .....max_depth=10, n_estimators=10;, score=0.996 total time=   0.0s\n",
      "[CV 3/3] END .....max_depth=10, n_estimators=10;, score=0.995 total time=   0.0s\n",
      "[CV 1/3] END .....max_depth=10, n_estimators=20;, score=0.987 total time=   0.0s\n",
      "[CV 2/3] END .....max_depth=10, n_estimators=20;, score=0.997 total time=   0.0s\n",
      "[CV 3/3] END .....max_depth=10, n_estimators=20;, score=0.997 total time=   0.0s\n",
      "[CV 1/3] END .....max_depth=10, n_estimators=30;, score=0.987 total time=   0.1s\n",
      "[CV 2/3] END .....max_depth=10, n_estimators=30;, score=0.998 total time=   0.1s\n",
      "[CV 3/3] END .....max_depth=10, n_estimators=30;, score=0.998 total time=   0.1s\n",
      "[CV 1/3] END .....max_depth=10, n_estimators=40;, score=0.988 total time=   0.1s\n",
      "[CV 2/3] END .....max_depth=10, n_estimators=40;, score=0.998 total time=   0.1s\n",
      "[CV 3/3] END .....max_depth=10, n_estimators=40;, score=0.998 total time=   0.1s\n",
      "[CV 1/3] END .....max_depth=13, n_estimators=10;, score=0.987 total time=   0.0s\n",
      "[CV 2/3] END .....max_depth=13, n_estimators=10;, score=0.998 total time=   0.0s\n",
      "[CV 3/3] END .....max_depth=13, n_estimators=10;, score=0.998 total time=   0.0s\n",
      "[CV 1/3] END .....max_depth=13, n_estimators=20;, score=0.990 total time=   0.1s\n",
      "[CV 2/3] END .....max_depth=13, n_estimators=20;, score=0.999 total time=   0.0s\n",
      "[CV 3/3] END .....max_depth=13, n_estimators=20;, score=0.999 total time=   0.0s\n",
      "[CV 1/3] END .....max_depth=13, n_estimators=30;, score=0.992 total time=   0.1s\n",
      "[CV 2/3] END .....max_depth=13, n_estimators=30;, score=0.999 total time=   0.1s\n",
      "[CV 3/3] END .....max_depth=13, n_estimators=30;, score=0.999 total time=   0.1s\n",
      "[CV 1/3] END .....max_depth=13, n_estimators=40;, score=0.992 total time=   0.2s\n",
      "[CV 2/3] END .....max_depth=13, n_estimators=40;, score=0.999 total time=   0.2s\n",
      "[CV 3/3] END .....max_depth=13, n_estimators=40;, score=0.999 total time=   0.2s\n",
      "[CV 1/3] END .....max_depth=16, n_estimators=10;, score=0.991 total time=   0.0s\n",
      "[CV 2/3] END .....max_depth=16, n_estimators=10;, score=0.999 total time=   0.0s\n",
      "[CV 3/3] END .....max_depth=16, n_estimators=10;, score=0.999 total time=   0.0s\n",
      "[CV 1/3] END .....max_depth=16, n_estimators=20;, score=0.993 total time=   0.0s\n",
      "[CV 2/3] END .....max_depth=16, n_estimators=20;, score=0.999 total time=   0.1s\n",
      "[CV 3/3] END .....max_depth=16, n_estimators=20;, score=0.999 total time=   0.0s\n",
      "[CV 1/3] END .....max_depth=16, n_estimators=30;, score=0.993 total time=   0.1s\n",
      "[CV 2/3] END .....max_depth=16, n_estimators=30;, score=0.999 total time=   0.1s\n",
      "[CV 3/3] END .....max_depth=16, n_estimators=30;, score=1.000 total time=   0.1s\n",
      "[CV 1/3] END .....max_depth=16, n_estimators=40;, score=0.994 total time=   0.2s\n",
      "[CV 2/3] END .....max_depth=16, n_estimators=40;, score=0.999 total time=   0.2s\n",
      "[CV 3/3] END .....max_depth=16, n_estimators=40;, score=1.000 total time=   0.2s\n",
      "[CV 1/3] END .....max_depth=19, n_estimators=10;, score=0.991 total time=   0.0s\n",
      "[CV 2/3] END .....max_depth=19, n_estimators=10;, score=0.999 total time=   0.0s\n",
      "[CV 3/3] END .....max_depth=19, n_estimators=10;, score=0.999 total time=   0.0s\n",
      "[CV 1/3] END .....max_depth=19, n_estimators=20;, score=0.993 total time=   0.1s\n",
      "[CV 2/3] END .....max_depth=19, n_estimators=20;, score=0.999 total time=   0.1s\n",
      "[CV 3/3] END .....max_depth=19, n_estimators=20;, score=0.999 total time=   0.1s\n",
      "[CV 1/3] END .....max_depth=19, n_estimators=30;, score=0.994 total time=   0.1s\n",
      "[CV 2/3] END .....max_depth=19, n_estimators=30;, score=0.999 total time=   0.1s\n",
      "[CV 3/3] END .....max_depth=19, n_estimators=30;, score=1.000 total time=   0.1s\n",
      "[CV 1/3] END .....max_depth=19, n_estimators=40;, score=0.995 total time=   0.2s\n",
      "[CV 2/3] END .....max_depth=19, n_estimators=40;, score=1.000 total time=   0.2s\n",
      "[CV 3/3] END .....max_depth=19, n_estimators=40;, score=1.000 total time=   0.2s\n",
      "[CV 1/3] END .....max_depth=22, n_estimators=10;, score=0.991 total time=   0.0s\n",
      "[CV 2/3] END .....max_depth=22, n_estimators=10;, score=0.999 total time=   0.0s\n",
      "[CV 3/3] END .....max_depth=22, n_estimators=10;, score=0.999 total time=   0.0s\n",
      "[CV 1/3] END .....max_depth=22, n_estimators=20;, score=0.994 total time=   0.1s\n",
      "[CV 2/3] END .....max_depth=22, n_estimators=20;, score=1.000 total time=   0.1s\n",
      "[CV 3/3] END .....max_depth=22, n_estimators=20;, score=0.999 total time=   0.0s\n",
      "[CV 1/3] END .....max_depth=22, n_estimators=30;, score=0.995 total time=   0.1s\n",
      "[CV 2/3] END .....max_depth=22, n_estimators=30;, score=1.000 total time=   0.1s\n",
      "[CV 3/3] END .....max_depth=22, n_estimators=30;, score=0.999 total time=   0.1s\n",
      "[CV 1/3] END .....max_depth=22, n_estimators=40;, score=0.995 total time=   0.2s\n",
      "[CV 2/3] END .....max_depth=22, n_estimators=40;, score=1.000 total time=   0.2s\n",
      "[CV 3/3] END .....max_depth=22, n_estimators=40;, score=1.000 total time=   0.2s\n",
      "[CV 1/3] END .....max_depth=25, n_estimators=10;, score=0.991 total time=   0.0s\n",
      "[CV 2/3] END .....max_depth=25, n_estimators=10;, score=0.999 total time=   0.0s\n",
      "[CV 3/3] END .....max_depth=25, n_estimators=10;, score=0.999 total time=   0.0s\n",
      "[CV 1/3] END .....max_depth=25, n_estimators=20;, score=0.994 total time=   0.1s\n",
      "[CV 2/3] END .....max_depth=25, n_estimators=20;, score=0.999 total time=   0.1s\n",
      "[CV 3/3] END .....max_depth=25, n_estimators=20;, score=0.999 total time=   0.0s\n",
      "[CV 1/3] END .....max_depth=25, n_estimators=30;, score=0.995 total time=   0.1s\n",
      "[CV 2/3] END .....max_depth=25, n_estimators=30;, score=0.999 total time=   0.1s\n",
      "[CV 3/3] END .....max_depth=25, n_estimators=30;, score=0.999 total time=   0.1s\n",
      "[CV 1/3] END .....max_depth=25, n_estimators=40;, score=0.995 total time=   0.2s\n",
      "[CV 2/3] END .....max_depth=25, n_estimators=40;, score=1.000 total time=   0.2s\n",
      "[CV 3/3] END .....max_depth=25, n_estimators=40;, score=1.000 total time=   0.2s\n",
      "[CV 1/3] END .....max_depth=28, n_estimators=10;, score=0.993 total time=   0.0s\n",
      "[CV 2/3] END .....max_depth=28, n_estimators=10;, score=0.999 total time=   0.0s\n",
      "[CV 3/3] END .....max_depth=28, n_estimators=10;, score=0.999 total time=   0.0s\n",
      "[CV 1/3] END .....max_depth=28, n_estimators=20;, score=0.994 total time=   0.1s\n",
      "[CV 2/3] END .....max_depth=28, n_estimators=20;, score=0.999 total time=   0.1s\n",
      "[CV 3/3] END .....max_depth=28, n_estimators=20;, score=0.999 total time=   0.1s\n",
      "[CV 1/3] END .....max_depth=28, n_estimators=30;, score=0.995 total time=   0.1s\n",
      "[CV 2/3] END .....max_depth=28, n_estimators=30;, score=1.000 total time=   0.1s\n",
      "[CV 3/3] END .....max_depth=28, n_estimators=30;, score=0.999 total time=   0.1s\n",
      "[CV 1/3] END .....max_depth=28, n_estimators=40;, score=0.995 total time=   0.2s\n",
      "[CV 2/3] END .....max_depth=28, n_estimators=40;, score=1.000 total time=   0.2s\n",
      "[CV 3/3] END .....max_depth=28, n_estimators=40;, score=0.999 total time=   0.2s\n"
     ]
    },
    {
     "data": {
      "text/html": [
       "<style>#sk-container-id-3 {color: black;}#sk-container-id-3 pre{padding: 0;}#sk-container-id-3 div.sk-toggleable {background-color: white;}#sk-container-id-3 label.sk-toggleable__label {cursor: pointer;display: block;width: 100%;margin-bottom: 0;padding: 0.3em;box-sizing: border-box;text-align: center;}#sk-container-id-3 label.sk-toggleable__label-arrow:before {content: \"▸\";float: left;margin-right: 0.25em;color: #696969;}#sk-container-id-3 label.sk-toggleable__label-arrow:hover:before {color: black;}#sk-container-id-3 div.sk-estimator:hover label.sk-toggleable__label-arrow:before {color: black;}#sk-container-id-3 div.sk-toggleable__content {max-height: 0;max-width: 0;overflow: hidden;text-align: left;background-color: #f0f8ff;}#sk-container-id-3 div.sk-toggleable__content pre {margin: 0.2em;color: black;border-radius: 0.25em;background-color: #f0f8ff;}#sk-container-id-3 input.sk-toggleable__control:checked~div.sk-toggleable__content {max-height: 200px;max-width: 100%;overflow: auto;}#sk-container-id-3 input.sk-toggleable__control:checked~label.sk-toggleable__label-arrow:before {content: \"▾\";}#sk-container-id-3 div.sk-estimator input.sk-toggleable__control:checked~label.sk-toggleable__label {background-color: #d4ebff;}#sk-container-id-3 div.sk-label input.sk-toggleable__control:checked~label.sk-toggleable__label {background-color: #d4ebff;}#sk-container-id-3 input.sk-hidden--visually {border: 0;clip: rect(1px 1px 1px 1px);clip: rect(1px, 1px, 1px, 1px);height: 1px;margin: -1px;overflow: hidden;padding: 0;position: absolute;width: 1px;}#sk-container-id-3 div.sk-estimator {font-family: monospace;background-color: #f0f8ff;border: 1px dotted black;border-radius: 0.25em;box-sizing: border-box;margin-bottom: 0.5em;}#sk-container-id-3 div.sk-estimator:hover {background-color: #d4ebff;}#sk-container-id-3 div.sk-parallel-item::after {content: \"\";width: 100%;border-bottom: 1px solid gray;flex-grow: 1;}#sk-container-id-3 div.sk-label:hover label.sk-toggleable__label {background-color: #d4ebff;}#sk-container-id-3 div.sk-serial::before {content: \"\";position: absolute;border-left: 1px solid gray;box-sizing: border-box;top: 0;bottom: 0;left: 50%;z-index: 0;}#sk-container-id-3 div.sk-serial {display: flex;flex-direction: column;align-items: center;background-color: white;padding-right: 0.2em;padding-left: 0.2em;position: relative;}#sk-container-id-3 div.sk-item {position: relative;z-index: 1;}#sk-container-id-3 div.sk-parallel {display: flex;align-items: stretch;justify-content: center;background-color: white;position: relative;}#sk-container-id-3 div.sk-item::before, #sk-container-id-3 div.sk-parallel-item::before {content: \"\";position: absolute;border-left: 1px solid gray;box-sizing: border-box;top: 0;bottom: 0;left: 50%;z-index: -1;}#sk-container-id-3 div.sk-parallel-item {display: flex;flex-direction: column;z-index: 1;position: relative;background-color: white;}#sk-container-id-3 div.sk-parallel-item:first-child::after {align-self: flex-end;width: 50%;}#sk-container-id-3 div.sk-parallel-item:last-child::after {align-self: flex-start;width: 50%;}#sk-container-id-3 div.sk-parallel-item:only-child::after {width: 0;}#sk-container-id-3 div.sk-dashed-wrapped {border: 1px dashed gray;margin: 0 0.4em 0.5em 0.4em;box-sizing: border-box;padding-bottom: 0.4em;background-color: white;}#sk-container-id-3 div.sk-label label {font-family: monospace;font-weight: bold;display: inline-block;line-height: 1.2em;}#sk-container-id-3 div.sk-label-container {text-align: center;}#sk-container-id-3 div.sk-container {/* jupyter's `normalize.less` sets `[hidden] { display: none; }` but bootstrap.min.css set `[hidden] { display: none !important; }` so we also need the `!important` here to be able to override the default hidden behavior on the sphinx rendered scikit-learn.org. See: https://github.com/scikit-learn/scikit-learn/issues/21755 */display: inline-block !important;position: relative;}#sk-container-id-3 div.sk-text-repr-fallback {display: none;}</style><div id=\"sk-container-id-3\" class=\"sk-top-container\"><div class=\"sk-text-repr-fallback\"><pre>GridSearchCV(cv=3,\n",
       "             estimator=RandomForestClassifier(class_weight=&#x27;balanced&#x27;,\n",
       "                                              n_jobs=-1),\n",
       "             param_grid={&#x27;max_depth&#x27;: array([10, 13, 16, 19, 22, 25, 28]),\n",
       "                         &#x27;n_estimators&#x27;: array([10, 20, 30, 40])},\n",
       "             scoring=&#x27;roc_auc&#x27;, verbose=3)</pre><b>In a Jupyter environment, please rerun this cell to show the HTML representation or trust the notebook. <br />On GitHub, the HTML representation is unable to render, please try loading this page with nbviewer.org.</b></div><div class=\"sk-container\" hidden><div class=\"sk-item sk-dashed-wrapped\"><div class=\"sk-label-container\"><div class=\"sk-label sk-toggleable\"><input class=\"sk-toggleable__control sk-hidden--visually\" id=\"sk-estimator-id-7\" type=\"checkbox\" ><label for=\"sk-estimator-id-7\" class=\"sk-toggleable__label sk-toggleable__label-arrow\">GridSearchCV</label><div class=\"sk-toggleable__content\"><pre>GridSearchCV(cv=3,\n",
       "             estimator=RandomForestClassifier(class_weight=&#x27;balanced&#x27;,\n",
       "                                              n_jobs=-1),\n",
       "             param_grid={&#x27;max_depth&#x27;: array([10, 13, 16, 19, 22, 25, 28]),\n",
       "                         &#x27;n_estimators&#x27;: array([10, 20, 30, 40])},\n",
       "             scoring=&#x27;roc_auc&#x27;, verbose=3)</pre></div></div></div><div class=\"sk-parallel\"><div class=\"sk-parallel-item\"><div class=\"sk-item\"><div class=\"sk-label-container\"><div class=\"sk-label sk-toggleable\"><input class=\"sk-toggleable__control sk-hidden--visually\" id=\"sk-estimator-id-8\" type=\"checkbox\" ><label for=\"sk-estimator-id-8\" class=\"sk-toggleable__label sk-toggleable__label-arrow\">estimator: RandomForestClassifier</label><div class=\"sk-toggleable__content\"><pre>RandomForestClassifier(class_weight=&#x27;balanced&#x27;, n_jobs=-1)</pre></div></div></div><div class=\"sk-serial\"><div class=\"sk-item\"><div class=\"sk-estimator sk-toggleable\"><input class=\"sk-toggleable__control sk-hidden--visually\" id=\"sk-estimator-id-9\" type=\"checkbox\" ><label for=\"sk-estimator-id-9\" class=\"sk-toggleable__label sk-toggleable__label-arrow\">RandomForestClassifier</label><div class=\"sk-toggleable__content\"><pre>RandomForestClassifier(class_weight=&#x27;balanced&#x27;, n_jobs=-1)</pre></div></div></div></div></div></div></div></div></div></div>"
      ],
      "text/plain": [
       "GridSearchCV(cv=3,\n",
       "             estimator=RandomForestClassifier(class_weight='balanced',\n",
       "                                              n_jobs=-1),\n",
       "             param_grid={'max_depth': array([10, 13, 16, 19, 22, 25, 28]),\n",
       "                         'n_estimators': array([10, 20, 30, 40])},\n",
       "             scoring='roc_auc', verbose=3)"
      ]
     },
     "execution_count": 233,
     "metadata": {},
     "output_type": "execute_result"
    }
   ],
   "source": [
    "params = {'n_estimators': np.arange(10, 50, 10),\n",
    "          'max_depth': np.arange(10, 30, 3)}\n",
    "\n",
    "gs = GridSearchCV(RandomForestClassifier(class_weight='balanced',n_jobs=-1), params, cv=3, scoring='roc_auc', verbose=3)\n",
    "\n",
    "gs.fit(Xtrain, ytrain)"
   ]
  },
  {
   "cell_type": "code",
   "execution_count": 234,
   "metadata": {},
   "outputs": [
    {
     "data": {
      "text/plain": [
       "(0.9980466219364237,\n",
       " RandomForestClassifier(class_weight='balanced', max_depth=25, n_estimators=40,\n",
       "                        n_jobs=-1))"
      ]
     },
     "execution_count": 234,
     "metadata": {},
     "output_type": "execute_result"
    }
   ],
   "source": [
    "gs.best_score_, gs.best_estimator_"
   ]
  },
  {
   "cell_type": "code",
   "execution_count": 235,
   "metadata": {},
   "outputs": [],
   "source": [
    "rfc_pred_test=gs.predict_proba(Xtest)[:,1]"
   ]
  },
  {
   "cell_type": "code",
   "execution_count": 236,
   "metadata": {},
   "outputs": [
    {
     "data": {
      "text/plain": [
       "0.5061893988364576"
      ]
     },
     "execution_count": 236,
     "metadata": {},
     "output_type": "execute_result"
    }
   ],
   "source": [
    "roc_auc_score(ytest,rfc_pred_test)"
   ]
  },
  {
   "cell_type": "markdown",
   "metadata": {},
   "source": [
    "Что осталось сделать? 1.Улучшить логистическую регрессию, 2.в бустинге сделать перебор параметров, 3.попробовать другие метрики, 4.сделать финальную табличку, 5.разделить SMOTE и не SMOTE 6. SMOTE+ регуляризация 7. Посмотреть, что это за люди которым кредит не выдали\n"
   ]
  },
  {
   "cell_type": "code",
   "execution_count": null,
   "metadata": {},
   "outputs": [],
   "source": []
  }
 ],
 "metadata": {
  "kernelspec": {
   "display_name": "Python 3",
   "language": "python",
   "name": "python3"
  },
  "language_info": {
   "codemirror_mode": {
    "name": "ipython",
    "version": 3
   },
   "file_extension": ".py",
   "mimetype": "text/x-python",
   "name": "python",
   "nbconvert_exporter": "python",
   "pygments_lexer": "ipython3",
   "version": "3.8.5"
  }
 },
 "nbformat": 4,
 "nbformat_minor": 4
}
