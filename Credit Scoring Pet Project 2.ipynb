{
 "cells": [
  {
   "cell_type": "code",
   "execution_count": 226,
   "metadata": {},
   "outputs": [],
   "source": [
    "#импортируем библиотеки\n",
    "import numpy as np\n",
    "import pandas as pd\n",
    "import seaborn as sb\n",
    "from matplotlib import pyplot as plt\n"
   ]
  },
  {
   "cell_type": "code",
   "execution_count": 227,
   "metadata": {},
   "outputs": [],
   "source": [
    "dfPeople=pd.read_csv(\"application_record.csv\")"
   ]
  },
  {
   "cell_type": "markdown",
   "metadata": {},
   "source": [
    "# СМОТРИМ ПЕРВУЮ ТАБЛИЦУ"
   ]
  },
  {
   "cell_type": "code",
   "execution_count": 228,
   "metadata": {},
   "outputs": [
    {
     "data": {
      "text/html": [
       "<div>\n",
       "<style scoped>\n",
       "    .dataframe tbody tr th:only-of-type {\n",
       "        vertical-align: middle;\n",
       "    }\n",
       "\n",
       "    .dataframe tbody tr th {\n",
       "        vertical-align: top;\n",
       "    }\n",
       "\n",
       "    .dataframe thead th {\n",
       "        text-align: right;\n",
       "    }\n",
       "</style>\n",
       "<table border=\"1\" class=\"dataframe\">\n",
       "  <thead>\n",
       "    <tr style=\"text-align: right;\">\n",
       "      <th></th>\n",
       "      <th>ID</th>\n",
       "      <th>CODE_GENDER</th>\n",
       "      <th>FLAG_OWN_CAR</th>\n",
       "      <th>FLAG_OWN_REALTY</th>\n",
       "      <th>CNT_CHILDREN</th>\n",
       "      <th>AMT_INCOME_TOTAL</th>\n",
       "      <th>NAME_INCOME_TYPE</th>\n",
       "      <th>NAME_EDUCATION_TYPE</th>\n",
       "      <th>NAME_FAMILY_STATUS</th>\n",
       "      <th>NAME_HOUSING_TYPE</th>\n",
       "      <th>DAYS_BIRTH</th>\n",
       "      <th>DAYS_EMPLOYED</th>\n",
       "      <th>FLAG_MOBIL</th>\n",
       "      <th>FLAG_WORK_PHONE</th>\n",
       "      <th>FLAG_PHONE</th>\n",
       "      <th>FLAG_EMAIL</th>\n",
       "      <th>OCCUPATION_TYPE</th>\n",
       "      <th>CNT_FAM_MEMBERS</th>\n",
       "    </tr>\n",
       "  </thead>\n",
       "  <tbody>\n",
       "    <tr>\n",
       "      <th>0</th>\n",
       "      <td>5008804</td>\n",
       "      <td>M</td>\n",
       "      <td>Y</td>\n",
       "      <td>Y</td>\n",
       "      <td>0</td>\n",
       "      <td>427500.0</td>\n",
       "      <td>Working</td>\n",
       "      <td>Higher education</td>\n",
       "      <td>Civil marriage</td>\n",
       "      <td>Rented apartment</td>\n",
       "      <td>-12005</td>\n",
       "      <td>-4542</td>\n",
       "      <td>1</td>\n",
       "      <td>1</td>\n",
       "      <td>0</td>\n",
       "      <td>0</td>\n",
       "      <td>NaN</td>\n",
       "      <td>2.0</td>\n",
       "    </tr>\n",
       "    <tr>\n",
       "      <th>1</th>\n",
       "      <td>5008805</td>\n",
       "      <td>M</td>\n",
       "      <td>Y</td>\n",
       "      <td>Y</td>\n",
       "      <td>0</td>\n",
       "      <td>427500.0</td>\n",
       "      <td>Working</td>\n",
       "      <td>Higher education</td>\n",
       "      <td>Civil marriage</td>\n",
       "      <td>Rented apartment</td>\n",
       "      <td>-12005</td>\n",
       "      <td>-4542</td>\n",
       "      <td>1</td>\n",
       "      <td>1</td>\n",
       "      <td>0</td>\n",
       "      <td>0</td>\n",
       "      <td>NaN</td>\n",
       "      <td>2.0</td>\n",
       "    </tr>\n",
       "    <tr>\n",
       "      <th>2</th>\n",
       "      <td>5008806</td>\n",
       "      <td>M</td>\n",
       "      <td>Y</td>\n",
       "      <td>Y</td>\n",
       "      <td>0</td>\n",
       "      <td>112500.0</td>\n",
       "      <td>Working</td>\n",
       "      <td>Secondary / secondary special</td>\n",
       "      <td>Married</td>\n",
       "      <td>House / apartment</td>\n",
       "      <td>-21474</td>\n",
       "      <td>-1134</td>\n",
       "      <td>1</td>\n",
       "      <td>0</td>\n",
       "      <td>0</td>\n",
       "      <td>0</td>\n",
       "      <td>Security staff</td>\n",
       "      <td>2.0</td>\n",
       "    </tr>\n",
       "    <tr>\n",
       "      <th>3</th>\n",
       "      <td>5008808</td>\n",
       "      <td>F</td>\n",
       "      <td>N</td>\n",
       "      <td>Y</td>\n",
       "      <td>0</td>\n",
       "      <td>270000.0</td>\n",
       "      <td>Commercial associate</td>\n",
       "      <td>Secondary / secondary special</td>\n",
       "      <td>Single / not married</td>\n",
       "      <td>House / apartment</td>\n",
       "      <td>-19110</td>\n",
       "      <td>-3051</td>\n",
       "      <td>1</td>\n",
       "      <td>0</td>\n",
       "      <td>1</td>\n",
       "      <td>1</td>\n",
       "      <td>Sales staff</td>\n",
       "      <td>1.0</td>\n",
       "    </tr>\n",
       "    <tr>\n",
       "      <th>4</th>\n",
       "      <td>5008809</td>\n",
       "      <td>F</td>\n",
       "      <td>N</td>\n",
       "      <td>Y</td>\n",
       "      <td>0</td>\n",
       "      <td>270000.0</td>\n",
       "      <td>Commercial associate</td>\n",
       "      <td>Secondary / secondary special</td>\n",
       "      <td>Single / not married</td>\n",
       "      <td>House / apartment</td>\n",
       "      <td>-19110</td>\n",
       "      <td>-3051</td>\n",
       "      <td>1</td>\n",
       "      <td>0</td>\n",
       "      <td>1</td>\n",
       "      <td>1</td>\n",
       "      <td>Sales staff</td>\n",
       "      <td>1.0</td>\n",
       "    </tr>\n",
       "  </tbody>\n",
       "</table>\n",
       "</div>"
      ],
      "text/plain": [
       "        ID CODE_GENDER FLAG_OWN_CAR FLAG_OWN_REALTY  CNT_CHILDREN  \\\n",
       "0  5008804           M            Y               Y             0   \n",
       "1  5008805           M            Y               Y             0   \n",
       "2  5008806           M            Y               Y             0   \n",
       "3  5008808           F            N               Y             0   \n",
       "4  5008809           F            N               Y             0   \n",
       "\n",
       "   AMT_INCOME_TOTAL      NAME_INCOME_TYPE            NAME_EDUCATION_TYPE  \\\n",
       "0          427500.0               Working               Higher education   \n",
       "1          427500.0               Working               Higher education   \n",
       "2          112500.0               Working  Secondary / secondary special   \n",
       "3          270000.0  Commercial associate  Secondary / secondary special   \n",
       "4          270000.0  Commercial associate  Secondary / secondary special   \n",
       "\n",
       "     NAME_FAMILY_STATUS  NAME_HOUSING_TYPE  DAYS_BIRTH  DAYS_EMPLOYED  \\\n",
       "0        Civil marriage   Rented apartment      -12005          -4542   \n",
       "1        Civil marriage   Rented apartment      -12005          -4542   \n",
       "2               Married  House / apartment      -21474          -1134   \n",
       "3  Single / not married  House / apartment      -19110          -3051   \n",
       "4  Single / not married  House / apartment      -19110          -3051   \n",
       "\n",
       "   FLAG_MOBIL  FLAG_WORK_PHONE  FLAG_PHONE  FLAG_EMAIL OCCUPATION_TYPE  \\\n",
       "0           1                1           0           0             NaN   \n",
       "1           1                1           0           0             NaN   \n",
       "2           1                0           0           0  Security staff   \n",
       "3           1                0           1           1     Sales staff   \n",
       "4           1                0           1           1     Sales staff   \n",
       "\n",
       "   CNT_FAM_MEMBERS  \n",
       "0              2.0  \n",
       "1              2.0  \n",
       "2              2.0  \n",
       "3              1.0  \n",
       "4              1.0  "
      ]
     },
     "execution_count": 228,
     "metadata": {},
     "output_type": "execute_result"
    }
   ],
   "source": [
    "dfPeople.head()"
   ]
  },
  {
   "cell_type": "markdown",
   "metadata": {},
   "source": [
    "# СМОТРИМ ВТОРУЮ ТАБЛИЦУ"
   ]
  },
  {
   "cell_type": "code",
   "execution_count": 229,
   "metadata": {},
   "outputs": [],
   "source": [
    "crr=pd.read_csv(\"credit_record.csv\")"
   ]
  },
  {
   "cell_type": "code",
   "execution_count": 230,
   "metadata": {},
   "outputs": [],
   "source": [
    "crr['STATUS']=crr['STATUS'].apply(lambda x: '-1' if x=='C' else x)\n",
    "crr['STATUS']=crr['STATUS'].apply(lambda x: '-2' if x=='X' else x)\n",
    "crr['STATUS']=crr['STATUS'].astype(int)"
   ]
  },
  {
   "cell_type": "code",
   "execution_count": 231,
   "metadata": {},
   "outputs": [],
   "source": [
    "max_delay=crr.groupby('ID')['STATUS'].max()"
   ]
  },
  {
   "cell_type": "markdown",
   "metadata": {},
   "source": [
    "# СОЕДИНИМ ТАБЛИЦЫ"
   ]
  },
  {
   "cell_type": "code",
   "execution_count": 232,
   "metadata": {},
   "outputs": [],
   "source": [
    "data = pd.merge(dfPeople, max_delay, how='inner', left_on='ID', right_on='ID')"
   ]
  },
  {
   "cell_type": "code",
   "execution_count": 233,
   "metadata": {},
   "outputs": [],
   "source": [
    "data.drop(columns='ID',inplace=True)"
   ]
  },
  {
   "cell_type": "code",
   "execution_count": 234,
   "metadata": {},
   "outputs": [
    {
     "data": {
      "text/plain": [
       " 0    27711\n",
       " 1     3675\n",
       "-2     3347\n",
       "-1     1108\n",
       " 2      314\n",
       " 5      180\n",
       " 3       76\n",
       " 4       46\n",
       "Name: STATUS, dtype: int64"
      ]
     },
     "execution_count": 234,
     "metadata": {},
     "output_type": "execute_result"
    }
   ],
   "source": [
    "data['STATUS'].value_counts()"
   ]
  },
  {
   "cell_type": "code",
   "execution_count": 235,
   "metadata": {},
   "outputs": [],
   "source": [
    "data['STATUS']=data['STATUS'].apply(lambda x: 0 if x>=2 else 1)"
   ]
  },
  {
   "cell_type": "code",
   "execution_count": 236,
   "metadata": {},
   "outputs": [],
   "source": [
    "data.drop(columns='OCCUPATION_TYPE',inplace=True)"
   ]
  },
  {
   "cell_type": "code",
   "execution_count": 237,
   "metadata": {},
   "outputs": [],
   "source": [
    "#DROP duplicates так, что у людей с одинковыми колонками было только макс debt\n",
    "feature_cols=data.iloc[:,:-1].columns.tolist()\n"
   ]
  },
  {
   "cell_type": "code",
   "execution_count": 238,
   "metadata": {},
   "outputs": [],
   "source": [
    "data=data.groupby(feature_cols).agg({'STATUS': 'min'}).reset_index()\n"
   ]
  },
  {
   "cell_type": "code",
   "execution_count": 239,
   "metadata": {},
   "outputs": [],
   "source": [
    "data.rename(columns={'STATUS': 'CREDIT_ACCEPT'}, inplace=True)\n"
   ]
  },
  {
   "cell_type": "code",
   "execution_count": 240,
   "metadata": {},
   "outputs": [
    {
     "data": {
      "text/plain": [
       "1    1617\n",
       "0      82\n",
       "Name: CREDIT_ACCEPT, dtype: int64"
      ]
     },
     "execution_count": 240,
     "metadata": {},
     "output_type": "execute_result"
    }
   ],
   "source": [
    "data[data['DAYS_EMPLOYED']==365243]['CREDIT_ACCEPT'].value_counts()"
   ]
  },
  {
   "cell_type": "code",
   "execution_count": 241,
   "metadata": {},
   "outputs": [
    {
     "data": {
      "text/plain": [
       "1    9286\n",
       "0     442\n",
       "Name: CREDIT_ACCEPT, dtype: int64"
      ]
     },
     "execution_count": 241,
     "metadata": {},
     "output_type": "execute_result"
    }
   ],
   "source": [
    "data['CREDIT_ACCEPT'].value_counts()"
   ]
  },
  {
   "cell_type": "markdown",
   "metadata": {},
   "source": [
    "# ТАБЛИЦА ПОДГОТОВЛЕНА"
   ]
  },
  {
   "cell_type": "markdown",
   "metadata": {},
   "source": [
    "# 2.РАЗВЕДОЧНЫЙ АНАЛИЗ ДАННЫХ"
   ]
  },
  {
   "cell_type": "code",
   "execution_count": 242,
   "metadata": {},
   "outputs": [
    {
     "name": "stdout",
     "output_type": "stream",
     "text": [
      "<class 'pandas.core.frame.DataFrame'>\n",
      "RangeIndex: 9728 entries, 0 to 9727\n",
      "Data columns (total 17 columns):\n",
      " #   Column               Non-Null Count  Dtype  \n",
      "---  ------               --------------  -----  \n",
      " 0   CODE_GENDER          9728 non-null   object \n",
      " 1   FLAG_OWN_CAR         9728 non-null   object \n",
      " 2   FLAG_OWN_REALTY      9728 non-null   object \n",
      " 3   CNT_CHILDREN         9728 non-null   int64  \n",
      " 4   AMT_INCOME_TOTAL     9728 non-null   float64\n",
      " 5   NAME_INCOME_TYPE     9728 non-null   object \n",
      " 6   NAME_EDUCATION_TYPE  9728 non-null   object \n",
      " 7   NAME_FAMILY_STATUS   9728 non-null   object \n",
      " 8   NAME_HOUSING_TYPE    9728 non-null   object \n",
      " 9   DAYS_BIRTH           9728 non-null   int64  \n",
      " 10  DAYS_EMPLOYED        9728 non-null   int64  \n",
      " 11  FLAG_MOBIL           9728 non-null   int64  \n",
      " 12  FLAG_WORK_PHONE      9728 non-null   int64  \n",
      " 13  FLAG_PHONE           9728 non-null   int64  \n",
      " 14  FLAG_EMAIL           9728 non-null   int64  \n",
      " 15  CNT_FAM_MEMBERS      9728 non-null   float64\n",
      " 16  CREDIT_ACCEPT        9728 non-null   int64  \n",
      "dtypes: float64(2), int64(8), object(7)\n",
      "memory usage: 1.3+ MB\n"
     ]
    }
   ],
   "source": [
    "data.info()"
   ]
  },
  {
   "cell_type": "code",
   "execution_count": 243,
   "metadata": {},
   "outputs": [],
   "source": [
    "#закодируем Code_GENDER, FLAG_OWN_CAR, FLAG_OWN_REALTY в числа\n"
   ]
  },
  {
   "cell_type": "code",
   "execution_count": 244,
   "metadata": {},
   "outputs": [],
   "source": [
    "data['CODE_GENDER']=data['CODE_GENDER'].apply(lambda x: 1 if x=='F' else 0)"
   ]
  },
  {
   "cell_type": "code",
   "execution_count": 245,
   "metadata": {},
   "outputs": [],
   "source": [
    "data['FLAG_OWN_CAR']=data['FLAG_OWN_CAR'].apply(lambda x: 1 if x=='Y' else 0)\n",
    "data['FLAG_OWN_REALTY']=data['FLAG_OWN_REALTY'].apply(lambda x: 1 if x=='Y' else 0)"
   ]
  },
  {
   "cell_type": "code",
   "execution_count": 246,
   "metadata": {},
   "outputs": [],
   "source": [
    "#Закодируем EDUCATION TYPE порядковым образом\n"
   ]
  },
  {
   "cell_type": "code",
   "execution_count": 247,
   "metadata": {},
   "outputs": [],
   "source": [
    "def code_ed_type(s):\n",
    "    if(s=='Lower secondary'):\n",
    "        return 1\n",
    "    elif(s=='Secondary / secondary special'):\n",
    "        return 2\n",
    "    elif(s=='Incomplete higher'):\n",
    "        return 3\n",
    "    elif(s=='Higher education'):\n",
    "        return 4\n",
    "    else:\n",
    "        return 5"
   ]
  },
  {
   "cell_type": "code",
   "execution_count": 248,
   "metadata": {},
   "outputs": [],
   "source": [
    "data['NAME_EDUCATION_TYPE']=data['NAME_EDUCATION_TYPE'].apply(lambda x: code_ed_type(x))"
   ]
  },
  {
   "cell_type": "code",
   "execution_count": 249,
   "metadata": {},
   "outputs": [
    {
     "name": "stdout",
     "output_type": "stream",
     "text": [
      "365243\n"
     ]
    },
    {
     "data": {
      "text/plain": [
       "<AxesSubplot:>"
      ]
     },
     "execution_count": 249,
     "metadata": {},
     "output_type": "execute_result"
    },
    {
     "data": {
      "image/png": "[encoded data removed]",
      "text/plain": [
       "<Figure size 432x288 with 1 Axes>"
      ]
     },
     "metadata": {
      "needs_background": "light"
     },
     "output_type": "display_data"
    }
   ],
   "source": [
    "#Разберемся с DAYS_BIRTH и DAYS_EMPLOYED\n",
    "#data[data['DAYS_EMPLOYED']!=data['DAYS_EMPLOYED'].mode[0]]\n",
    "nulls=data['DAYS_EMPLOYED'].mode()[0]\n",
    "print(nulls)\n",
    "med=int(data[data['DAYS_EMPLOYED'] != nulls]['DAYS_EMPLOYED'].median())\n",
    "data['DAYS_EMPLOYED'].hist(bins=50, edgecolor='black')"
   ]
  },
  {
   "cell_type": "code",
   "execution_count": 250,
   "metadata": {},
   "outputs": [],
   "source": [
    "data['DAYS_EMPLOYED']=data['DAYS_EMPLOYED'].apply(lambda x: med if x==nulls else x)"
   ]
  },
  {
   "cell_type": "code",
   "execution_count": 251,
   "metadata": {},
   "outputs": [
    {
     "data": {
      "text/plain": [
       "-2384.0412212171054"
      ]
     },
     "execution_count": 251,
     "metadata": {},
     "output_type": "execute_result"
    }
   ],
   "source": [
    "data['DAYS_EMPLOYED'].mean()"
   ]
  },
  {
   "cell_type": "code",
   "execution_count": 252,
   "metadata": {},
   "outputs": [
    {
     "data": {
      "text/plain": [
       "<AxesSubplot:>"
      ]
     },
     "execution_count": 252,
     "metadata": {},
     "output_type": "execute_result"
    },
    {
     "data": {
      "image/png": "[encoded data removed]",
      "text/plain": [
       "<Figure size 432x288 with 1 Axes>"
      ]
     },
     "metadata": {
      "needs_background": "light"
     },
     "output_type": "display_data"
    }
   ],
   "source": [
    "data['DAYS_EMPLOYED'].hist(bins=50, edgecolor='black')"
   ]
  },
  {
   "cell_type": "code",
   "execution_count": 253,
   "metadata": {},
   "outputs": [
    {
     "data": {
      "text/plain": [
       "1    9728\n",
       "Name: FLAG_MOBIL, dtype: int64"
      ]
     },
     "execution_count": 253,
     "metadata": {},
     "output_type": "execute_result"
    }
   ],
   "source": [
    "data['FLAG_MOBIL'].value_counts()"
   ]
  },
  {
   "cell_type": "code",
   "execution_count": 254,
   "metadata": {},
   "outputs": [],
   "source": [
    "#убрали лишние признаки\n",
    "data.drop(columns=['FLAG_MOBIL','CNT_CHILDREN'],inplace=True)"
   ]
  },
  {
   "cell_type": "code",
   "execution_count": 255,
   "metadata": {},
   "outputs": [
    {
     "data": {
      "text/html": [
       "<div>\n",
       "<style scoped>\n",
       "    .dataframe tbody tr th:only-of-type {\n",
       "        vertical-align: middle;\n",
       "    }\n",
       "\n",
       "    .dataframe tbody tr th {\n",
       "        vertical-align: top;\n",
       "    }\n",
       "\n",
       "    .dataframe thead th {\n",
       "        text-align: right;\n",
       "    }\n",
       "</style>\n",
       "<table border=\"1\" class=\"dataframe\">\n",
       "  <thead>\n",
       "    <tr style=\"text-align: right;\">\n",
       "      <th></th>\n",
       "      <th>CODE_GENDER</th>\n",
       "      <th>FLAG_OWN_CAR</th>\n",
       "      <th>FLAG_OWN_REALTY</th>\n",
       "      <th>AMT_INCOME_TOTAL</th>\n",
       "      <th>NAME_INCOME_TYPE</th>\n",
       "      <th>NAME_EDUCATION_TYPE</th>\n",
       "      <th>NAME_FAMILY_STATUS</th>\n",
       "      <th>NAME_HOUSING_TYPE</th>\n",
       "      <th>DAYS_BIRTH</th>\n",
       "      <th>DAYS_EMPLOYED</th>\n",
       "      <th>FLAG_WORK_PHONE</th>\n",
       "      <th>FLAG_PHONE</th>\n",
       "      <th>FLAG_EMAIL</th>\n",
       "      <th>CNT_FAM_MEMBERS</th>\n",
       "      <th>CREDIT_ACCEPT</th>\n",
       "    </tr>\n",
       "  </thead>\n",
       "  <tbody>\n",
       "    <tr>\n",
       "      <th>0</th>\n",
       "      <td>1</td>\n",
       "      <td>0</td>\n",
       "      <td>0</td>\n",
       "      <td>27000.0</td>\n",
       "      <td>Working</td>\n",
       "      <td>4</td>\n",
       "      <td>Civil marriage</td>\n",
       "      <td>House / apartment</td>\n",
       "      <td>-14869</td>\n",
       "      <td>-5067</td>\n",
       "      <td>1</td>\n",
       "      <td>0</td>\n",
       "      <td>0</td>\n",
       "      <td>2.0</td>\n",
       "      <td>1</td>\n",
       "    </tr>\n",
       "    <tr>\n",
       "      <th>1</th>\n",
       "      <td>1</td>\n",
       "      <td>0</td>\n",
       "      <td>0</td>\n",
       "      <td>31500.0</td>\n",
       "      <td>Pensioner</td>\n",
       "      <td>2</td>\n",
       "      <td>Married</td>\n",
       "      <td>House / apartment</td>\n",
       "      <td>-20836</td>\n",
       "      <td>-1800</td>\n",
       "      <td>0</td>\n",
       "      <td>0</td>\n",
       "      <td>0</td>\n",
       "      <td>2.0</td>\n",
       "      <td>1</td>\n",
       "    </tr>\n",
       "    <tr>\n",
       "      <th>2</th>\n",
       "      <td>1</td>\n",
       "      <td>0</td>\n",
       "      <td>0</td>\n",
       "      <td>33300.0</td>\n",
       "      <td>Pensioner</td>\n",
       "      <td>2</td>\n",
       "      <td>Married</td>\n",
       "      <td>Office apartment</td>\n",
       "      <td>-19605</td>\n",
       "      <td>-1800</td>\n",
       "      <td>0</td>\n",
       "      <td>0</td>\n",
       "      <td>0</td>\n",
       "      <td>2.0</td>\n",
       "      <td>1</td>\n",
       "    </tr>\n",
       "    <tr>\n",
       "      <th>3</th>\n",
       "      <td>1</td>\n",
       "      <td>0</td>\n",
       "      <td>0</td>\n",
       "      <td>33750.0</td>\n",
       "      <td>Pensioner</td>\n",
       "      <td>4</td>\n",
       "      <td>Married</td>\n",
       "      <td>House / apartment</td>\n",
       "      <td>-19054</td>\n",
       "      <td>-1800</td>\n",
       "      <td>0</td>\n",
       "      <td>0</td>\n",
       "      <td>0</td>\n",
       "      <td>2.0</td>\n",
       "      <td>1</td>\n",
       "    </tr>\n",
       "    <tr>\n",
       "      <th>4</th>\n",
       "      <td>1</td>\n",
       "      <td>0</td>\n",
       "      <td>0</td>\n",
       "      <td>36000.0</td>\n",
       "      <td>Working</td>\n",
       "      <td>2</td>\n",
       "      <td>Married</td>\n",
       "      <td>With parents</td>\n",
       "      <td>-14500</td>\n",
       "      <td>-459</td>\n",
       "      <td>1</td>\n",
       "      <td>0</td>\n",
       "      <td>0</td>\n",
       "      <td>2.0</td>\n",
       "      <td>0</td>\n",
       "    </tr>\n",
       "    <tr>\n",
       "      <th>...</th>\n",
       "      <td>...</td>\n",
       "      <td>...</td>\n",
       "      <td>...</td>\n",
       "      <td>...</td>\n",
       "      <td>...</td>\n",
       "      <td>...</td>\n",
       "      <td>...</td>\n",
       "      <td>...</td>\n",
       "      <td>...</td>\n",
       "      <td>...</td>\n",
       "      <td>...</td>\n",
       "      <td>...</td>\n",
       "      <td>...</td>\n",
       "      <td>...</td>\n",
       "      <td>...</td>\n",
       "    </tr>\n",
       "    <tr>\n",
       "      <th>9723</th>\n",
       "      <td>0</td>\n",
       "      <td>1</td>\n",
       "      <td>1</td>\n",
       "      <td>67500.0</td>\n",
       "      <td>Working</td>\n",
       "      <td>2</td>\n",
       "      <td>Married</td>\n",
       "      <td>House / apartment</td>\n",
       "      <td>-13740</td>\n",
       "      <td>-2064</td>\n",
       "      <td>0</td>\n",
       "      <td>0</td>\n",
       "      <td>0</td>\n",
       "      <td>6.0</td>\n",
       "      <td>1</td>\n",
       "    </tr>\n",
       "    <tr>\n",
       "      <th>9724</th>\n",
       "      <td>0</td>\n",
       "      <td>1</td>\n",
       "      <td>1</td>\n",
       "      <td>157500.0</td>\n",
       "      <td>Working</td>\n",
       "      <td>4</td>\n",
       "      <td>Married</td>\n",
       "      <td>House / apartment</td>\n",
       "      <td>-11380</td>\n",
       "      <td>-1734</td>\n",
       "      <td>0</td>\n",
       "      <td>0</td>\n",
       "      <td>0</td>\n",
       "      <td>6.0</td>\n",
       "      <td>1</td>\n",
       "    </tr>\n",
       "    <tr>\n",
       "      <th>9725</th>\n",
       "      <td>0</td>\n",
       "      <td>1</td>\n",
       "      <td>1</td>\n",
       "      <td>292500.0</td>\n",
       "      <td>Working</td>\n",
       "      <td>2</td>\n",
       "      <td>Married</td>\n",
       "      <td>House / apartment</td>\n",
       "      <td>-14150</td>\n",
       "      <td>-401</td>\n",
       "      <td>0</td>\n",
       "      <td>0</td>\n",
       "      <td>0</td>\n",
       "      <td>6.0</td>\n",
       "      <td>1</td>\n",
       "    </tr>\n",
       "    <tr>\n",
       "      <th>9726</th>\n",
       "      <td>0</td>\n",
       "      <td>1</td>\n",
       "      <td>1</td>\n",
       "      <td>202500.0</td>\n",
       "      <td>Working</td>\n",
       "      <td>2</td>\n",
       "      <td>Married</td>\n",
       "      <td>Co-op apartment</td>\n",
       "      <td>-11384</td>\n",
       "      <td>-2727</td>\n",
       "      <td>0</td>\n",
       "      <td>0</td>\n",
       "      <td>0</td>\n",
       "      <td>7.0</td>\n",
       "      <td>1</td>\n",
       "    </tr>\n",
       "    <tr>\n",
       "      <th>9727</th>\n",
       "      <td>0</td>\n",
       "      <td>1</td>\n",
       "      <td>1</td>\n",
       "      <td>225000.0</td>\n",
       "      <td>Working</td>\n",
       "      <td>2</td>\n",
       "      <td>Separated</td>\n",
       "      <td>House / apartment</td>\n",
       "      <td>-17754</td>\n",
       "      <td>-1689</td>\n",
       "      <td>0</td>\n",
       "      <td>0</td>\n",
       "      <td>0</td>\n",
       "      <td>15.0</td>\n",
       "      <td>1</td>\n",
       "    </tr>\n",
       "  </tbody>\n",
       "</table>\n",
       "<p>9728 rows × 15 columns</p>\n",
       "</div>"
      ],
      "text/plain": [
       "      CODE_GENDER  FLAG_OWN_CAR  FLAG_OWN_REALTY  AMT_INCOME_TOTAL  \\\n",
       "0               1             0                0           27000.0   \n",
       "1               1             0                0           31500.0   \n",
       "2               1             0                0           33300.0   \n",
       "3               1             0                0           33750.0   \n",
       "4               1             0                0           36000.0   \n",
       "...           ...           ...              ...               ...   \n",
       "9723            0             1                1           67500.0   \n",
       "9724            0             1                1          157500.0   \n",
       "9725            0             1                1          292500.0   \n",
       "9726            0             1                1          202500.0   \n",
       "9727            0             1                1          225000.0   \n",
       "\n",
       "     NAME_INCOME_TYPE  NAME_EDUCATION_TYPE NAME_FAMILY_STATUS  \\\n",
       "0             Working                    4     Civil marriage   \n",
       "1           Pensioner                    2            Married   \n",
       "2           Pensioner                    2            Married   \n",
       "3           Pensioner                    4            Married   \n",
       "4             Working                    2            Married   \n",
       "...               ...                  ...                ...   \n",
       "9723          Working                    2            Married   \n",
       "9724          Working                    4            Married   \n",
       "9725          Working                    2            Married   \n",
       "9726          Working                    2            Married   \n",
       "9727          Working                    2          Separated   \n",
       "\n",
       "      NAME_HOUSING_TYPE  DAYS_BIRTH  DAYS_EMPLOYED  FLAG_WORK_PHONE  \\\n",
       "0     House / apartment      -14869          -5067                1   \n",
       "1     House / apartment      -20836          -1800                0   \n",
       "2      Office apartment      -19605          -1800                0   \n",
       "3     House / apartment      -19054          -1800                0   \n",
       "4          With parents      -14500           -459                1   \n",
       "...                 ...         ...            ...              ...   \n",
       "9723  House / apartment      -13740          -2064                0   \n",
       "9724  House / apartment      -11380          -1734                0   \n",
       "9725  House / apartment      -14150           -401                0   \n",
       "9726    Co-op apartment      -11384          -2727                0   \n",
       "9727  House / apartment      -17754          -1689                0   \n",
       "\n",
       "      FLAG_PHONE  FLAG_EMAIL  CNT_FAM_MEMBERS  CREDIT_ACCEPT  \n",
       "0              0           0              2.0              1  \n",
       "1              0           0              2.0              1  \n",
       "2              0           0              2.0              1  \n",
       "3              0           0              2.0              1  \n",
       "4              0           0              2.0              0  \n",
       "...          ...         ...              ...            ...  \n",
       "9723           0           0              6.0              1  \n",
       "9724           0           0              6.0              1  \n",
       "9725           0           0              6.0              1  \n",
       "9726           0           0              7.0              1  \n",
       "9727           0           0             15.0              1  \n",
       "\n",
       "[9728 rows x 15 columns]"
      ]
     },
     "execution_count": 255,
     "metadata": {},
     "output_type": "execute_result"
    }
   ],
   "source": [
    "data"
   ]
  },
  {
   "cell_type": "code",
   "execution_count": 256,
   "metadata": {},
   "outputs": [],
   "source": [
    "#Закодируем категориальные"
   ]
  },
  {
   "cell_type": "code",
   "execution_count": 257,
   "metadata": {},
   "outputs": [
    {
     "name": "stdout",
     "output_type": "stream",
     "text": [
      "<class 'pandas.core.frame.DataFrame'>\n",
      "RangeIndex: 9728 entries, 0 to 9727\n",
      "Data columns (total 15 columns):\n",
      " #   Column               Non-Null Count  Dtype  \n",
      "---  ------               --------------  -----  \n",
      " 0   CODE_GENDER          9728 non-null   int64  \n",
      " 1   FLAG_OWN_CAR         9728 non-null   int64  \n",
      " 2   FLAG_OWN_REALTY      9728 non-null   int64  \n",
      " 3   AMT_INCOME_TOTAL     9728 non-null   float64\n",
      " 4   NAME_INCOME_TYPE     9728 non-null   object \n",
      " 5   NAME_EDUCATION_TYPE  9728 non-null   int64  \n",
      " 6   NAME_FAMILY_STATUS   9728 non-null   object \n",
      " 7   NAME_HOUSING_TYPE    9728 non-null   object \n",
      " 8   DAYS_BIRTH           9728 non-null   int64  \n",
      " 9   DAYS_EMPLOYED        9728 non-null   int64  \n",
      " 10  FLAG_WORK_PHONE      9728 non-null   int64  \n",
      " 11  FLAG_PHONE           9728 non-null   int64  \n",
      " 12  FLAG_EMAIL           9728 non-null   int64  \n",
      " 13  CNT_FAM_MEMBERS      9728 non-null   float64\n",
      " 14  CREDIT_ACCEPT        9728 non-null   int64  \n",
      "dtypes: float64(2), int64(10), object(3)\n",
      "memory usage: 1.1+ MB\n"
     ]
    }
   ],
   "source": [
    "data.info()"
   ]
  },
  {
   "cell_type": "code",
   "execution_count": 258,
   "metadata": {},
   "outputs": [],
   "source": [
    "data['AMT_INCOME_TOTAL']=data['AMT_INCOME_TOTAL'].astype(int)\n",
    "data['CNT_FAM_MEMBERS']=data['CNT_FAM_MEMBERS'].astype(int)"
   ]
  },
  {
   "cell_type": "code",
   "execution_count": 259,
   "metadata": {},
   "outputs": [],
   "source": [
    "data=pd.get_dummies(data,drop_first=True)"
   ]
  },
  {
   "cell_type": "code",
   "execution_count": 260,
   "metadata": {},
   "outputs": [],
   "source": [
    "data['CREDIT_ACCEPT2']=data['CREDIT_ACCEPT']\n",
    "data.drop(columns='CREDIT_ACCEPT',inplace=True)\n",
    "data = data.rename(columns={'CREDIT_ACCEPT2': 'CREDIT_ACCEPT'})"
   ]
  },
  {
   "cell_type": "markdown",
   "metadata": {},
   "source": [
    "# SMOTE\n",
    "\n"
   ]
  },
  {
   "cell_type": "code",
   "execution_count": 293,
   "metadata": {},
   "outputs": [],
   "source": [
    "from imblearn.over_sampling import SMOTE\n",
    "smote = SMOTE()"
   ]
  },
  {
   "cell_type": "markdown",
   "metadata": {},
   "source": [
    "# 3 ПОСТРОЕНИЕ ML МОДЕЛЕЙ"
   ]
  },
  {
   "cell_type": "code",
   "execution_count": 294,
   "metadata": {},
   "outputs": [],
   "source": [
    "from sklearn.model_selection import train_test_split\n",
    "X=data.drop(columns='CREDIT_ACCEPT')\n",
    "y=data['CREDIT_ACCEPT']\n",
    "Xtrain,Xtest,ytrain,ytest=train_test_split(X,y,test_size=0.25, random_state=42)\n",
    "Xtrain, ytrain = smote.fit_resample(X, y)"
   ]
  },
  {
   "cell_type": "code",
   "execution_count": 295,
   "metadata": {},
   "outputs": [],
   "source": [
    "#масштабируем данным\\е\n",
    "from sklearn.preprocessing import StandardScaler\n",
    "scaler=StandardScaler()\n",
    "scaler.fit(Xtrain)\n",
    "Xtrain=pd.DataFrame(scaler.transform(Xtrain),columns=Xtrain.columns)\n",
    "Xtest=pd.DataFrame(scaler.transform(Xtest),columns=Xtest.columns)"
   ]
  },
  {
   "cell_type": "code",
   "execution_count": 296,
   "metadata": {},
   "outputs": [],
   "source": [
    "from sklearn.linear_model import LogisticRegression\n",
    "model=LogisticRegression(class_weight='balanced')\n",
    "model.fit(Xtrain,ytrain)\n",
    "pred_lr_train=model.predict_proba(Xtrain)[:,1]\n",
    "pred_lr_test=model.predict_proba(Xtest)[:,1]\n",
    "pred=model.predict(Xtest)"
   ]
  },
  {
   "cell_type": "code",
   "execution_count": 297,
   "metadata": {},
   "outputs": [
    {
     "data": {
      "text/plain": [
       "0.5000028247079107"
      ]
     },
     "execution_count": 297,
     "metadata": {},
     "output_type": "execute_result"
    }
   ],
   "source": [
    "(pred_lr_train).mean()"
   ]
  },
  {
   "cell_type": "code",
   "execution_count": 298,
   "metadata": {},
   "outputs": [
    {
     "data": {
      "text/plain": [
       "0.4904567429744586"
      ]
     },
     "execution_count": 298,
     "metadata": {},
     "output_type": "execute_result"
    }
   ],
   "source": [
    "from sklearn.metrics import roc_auc_score\n",
    "\n",
    "roc_auc_score(ytest,pred_lr_test)\n"
   ]
  },
  {
   "cell_type": "code",
   "execution_count": 299,
   "metadata": {},
   "outputs": [],
   "source": [
    "from catboost import CatBoostClassifier, Pool, metrics, cv\n",
    "from sklearn.metrics import accuracy_score"
   ]
  },
  {
   "cell_type": "code",
   "execution_count": 303,
   "metadata": {},
   "outputs": [],
   "source": [
    "cbc = CatBoostClassifier(\n",
    "    learning_rate=0.5,\n",
    "    eval_metric='AUC',\n",
    "    auto_class_weights='Balanced',\n",
    "    random_seed=42,\n",
    "    logging_level='Silent'\n",
    ")\n"
   ]
  },
  {
   "cell_type": "code",
   "execution_count": 304,
   "metadata": {},
   "outputs": [
    {
     "data": {
      "application/vnd.jupyter.widget-view+json": {
       "model_id": "a4a393ae839d44fe97eb190573707e86",
       "version_major": 2,
       "version_minor": 0
      },
      "text/plain": [
       "MetricVisualizer(layout=Layout(align_self='stretch', height='500px'))"
      ]
     },
     "metadata": {},
     "output_type": "display_data"
    },
    {
     "data": {
      "text/plain": [
       "<catboost.core.CatBoostClassifier at 0x20ea48b2760>"
      ]
     },
     "execution_count": 304,
     "metadata": {},
     "output_type": "execute_result"
    }
   ],
   "source": [
    "cbc.fit(\n",
    "    Xtrain, ytrain,\n",
    "#    eval_set=(Xtest, ytest),\n",
    "    plot=True\n",
    ")"
   ]
  },
  {
   "cell_type": "code",
   "execution_count": 310,
   "metadata": {},
   "outputs": [
    {
     "data": {
      "text/plain": [
       "1    2335\n",
       "0      97\n",
       "Name: CREDIT_ACCEPT, dtype: int64"
      ]
     },
     "execution_count": 310,
     "metadata": {},
     "output_type": "execute_result"
    }
   ],
   "source": [
    "ytest.value_counts()"
   ]
  },
  {
   "cell_type": "code",
   "execution_count": 311,
   "metadata": {},
   "outputs": [],
   "source": [
    "from sklearn.ensemble import RandomForestClassifier"
   ]
  },
  {
   "cell_type": "code",
   "execution_count": 312,
   "metadata": {},
   "outputs": [
    {
     "name": "stdout",
     "output_type": "stream",
     "text": [
      "Fitting 3 folds for each of 70 candidates, totalling 210 fits\n",
      "[CV] END .......................max_depth=2, n_estimators=10; total time=   0.0s\n",
      "[CV] END .......................max_depth=2, n_estimators=10; total time=   0.0s\n",
      "[CV] END .......................max_depth=2, n_estimators=10; total time=   0.0s\n",
      "[CV] END .......................max_depth=2, n_estimators=20; total time=   0.0s\n",
      "[CV] END .......................max_depth=2, n_estimators=20; total time=   0.0s\n",
      "[CV] END .......................max_depth=2, n_estimators=20; total time=   0.0s\n",
      "[CV] END .......................max_depth=2, n_estimators=30; total time=   0.0s\n",
      "[CV] END .......................max_depth=2, n_estimators=30; total time=   0.0s\n",
      "[CV] END .......................max_depth=2, n_estimators=30; total time=   0.0s\n",
      "[CV] END .......................max_depth=2, n_estimators=40; total time=   0.1s\n",
      "[CV] END .......................max_depth=2, n_estimators=40; total time=   0.1s\n",
      "[CV] END .......................max_depth=2, n_estimators=40; total time=   0.1s\n",
      "[CV] END .......................max_depth=2, n_estimators=50; total time=   0.2s\n",
      "[CV] END .......................max_depth=2, n_estimators=50; total time=   0.1s\n",
      "[CV] END .......................max_depth=2, n_estimators=50; total time=   0.1s\n",
      "[CV] END .......................max_depth=2, n_estimators=60; total time=   0.1s\n",
      "[CV] END .......................max_depth=2, n_estimators=60; total time=   0.1s\n",
      "[CV] END .......................max_depth=2, n_estimators=60; total time=   0.1s\n",
      "[CV] END .......................max_depth=2, n_estimators=70; total time=   0.1s\n",
      "[CV] END .......................max_depth=2, n_estimators=70; total time=   0.1s\n",
      "[CV] END .......................max_depth=2, n_estimators=70; total time=   0.1s\n",
      "[CV] END .......................max_depth=5, n_estimators=10; total time=   0.0s\n",
      "[CV] END .......................max_depth=5, n_estimators=10; total time=   0.0s\n",
      "[CV] END .......................max_depth=5, n_estimators=10; total time=   0.0s\n",
      "[CV] END .......................max_depth=5, n_estimators=20; total time=   0.0s\n",
      "[CV] END .......................max_depth=5, n_estimators=20; total time=   0.0s\n",
      "[CV] END .......................max_depth=5, n_estimators=20; total time=   0.0s\n",
      "[CV] END .......................max_depth=5, n_estimators=30; total time=   0.0s\n",
      "[CV] END .......................max_depth=5, n_estimators=30; total time=   0.0s\n",
      "[CV] END .......................max_depth=5, n_estimators=30; total time=   0.0s\n",
      "[CV] END .......................max_depth=5, n_estimators=40; total time=   0.1s\n",
      "[CV] END .......................max_depth=5, n_estimators=40; total time=   0.1s\n",
      "[CV] END .......................max_depth=5, n_estimators=40; total time=   0.1s\n",
      "[CV] END .......................max_depth=5, n_estimators=50; total time=   0.1s\n",
      "[CV] END .......................max_depth=5, n_estimators=50; total time=   0.1s\n",
      "[CV] END .......................max_depth=5, n_estimators=50; total time=   0.1s\n",
      "[CV] END .......................max_depth=5, n_estimators=60; total time=   0.1s\n",
      "[CV] END .......................max_depth=5, n_estimators=60; total time=   0.1s\n",
      "[CV] END .......................max_depth=5, n_estimators=60; total time=   0.1s\n",
      "[CV] END .......................max_depth=5, n_estimators=70; total time=   0.1s\n",
      "[CV] END .......................max_depth=5, n_estimators=70; total time=   0.1s\n",
      "[CV] END .......................max_depth=5, n_estimators=70; total time=   0.1s\n",
      "[CV] END .......................max_depth=8, n_estimators=10; total time=   0.0s\n",
      "[CV] END .......................max_depth=8, n_estimators=10; total time=   0.0s\n",
      "[CV] END .......................max_depth=8, n_estimators=10; total time=   0.0s\n",
      "[CV] END .......................max_depth=8, n_estimators=20; total time=   0.0s\n",
      "[CV] END .......................max_depth=8, n_estimators=20; total time=   0.0s\n",
      "[CV] END .......................max_depth=8, n_estimators=20; total time=   0.0s\n",
      "[CV] END .......................max_depth=8, n_estimators=30; total time=   0.1s\n",
      "[CV] END .......................max_depth=8, n_estimators=30; total time=   0.0s\n",
      "[CV] END .......................max_depth=8, n_estimators=30; total time=   0.1s\n",
      "[CV] END .......................max_depth=8, n_estimators=40; total time=   0.1s\n",
      "[CV] END .......................max_depth=8, n_estimators=40; total time=   0.1s\n",
      "[CV] END .......................max_depth=8, n_estimators=40; total time=   0.1s\n",
      "[CV] END .......................max_depth=8, n_estimators=50; total time=   0.1s\n",
      "[CV] END .......................max_depth=8, n_estimators=50; total time=   0.2s\n",
      "[CV] END .......................max_depth=8, n_estimators=50; total time=   0.1s\n",
      "[CV] END .......................max_depth=8, n_estimators=60; total time=   0.2s\n",
      "[CV] END .......................max_depth=8, n_estimators=60; total time=   0.2s\n",
      "[CV] END .......................max_depth=8, n_estimators=60; total time=   0.2s\n",
      "[CV] END .......................max_depth=8, n_estimators=70; total time=   0.2s\n",
      "[CV] END .......................max_depth=8, n_estimators=70; total time=   0.2s\n",
      "[CV] END .......................max_depth=8, n_estimators=70; total time=   0.2s\n",
      "[CV] END ......................max_depth=11, n_estimators=10; total time=   0.0s\n",
      "[CV] END ......................max_depth=11, n_estimators=10; total time=   0.0s\n",
      "[CV] END ......................max_depth=11, n_estimators=10; total time=   0.0s\n",
      "[CV] END ......................max_depth=11, n_estimators=20; total time=   0.0s\n",
      "[CV] END ......................max_depth=11, n_estimators=20; total time=   0.0s\n",
      "[CV] END ......................max_depth=11, n_estimators=20; total time=   0.0s\n",
      "[CV] END ......................max_depth=11, n_estimators=30; total time=   0.1s\n",
      "[CV] END ......................max_depth=11, n_estimators=30; total time=   0.1s\n",
      "[CV] END ......................max_depth=11, n_estimators=30; total time=   0.1s\n",
      "[CV] END ......................max_depth=11, n_estimators=40; total time=   0.1s\n",
      "[CV] END ......................max_depth=11, n_estimators=40; total time=   0.1s\n",
      "[CV] END ......................max_depth=11, n_estimators=40; total time=   0.1s\n",
      "[CV] END ......................max_depth=11, n_estimators=50; total time=   0.2s\n",
      "[CV] END ......................max_depth=11, n_estimators=50; total time=   0.2s\n",
      "[CV] END ......................max_depth=11, n_estimators=50; total time=   0.2s\n",
      "[CV] END ......................max_depth=11, n_estimators=60; total time=   0.2s\n",
      "[CV] END ......................max_depth=11, n_estimators=60; total time=   0.2s\n",
      "[CV] END ......................max_depth=11, n_estimators=60; total time=   0.2s\n",
      "[CV] END ......................max_depth=11, n_estimators=70; total time=   0.2s\n",
      "[CV] END ......................max_depth=11, n_estimators=70; total time=   0.2s\n",
      "[CV] END ......................max_depth=11, n_estimators=70; total time=   0.3s\n",
      "[CV] END ......................max_depth=14, n_estimators=10; total time=   0.0s\n",
      "[CV] END ......................max_depth=14, n_estimators=10; total time=   0.0s\n",
      "[CV] END ......................max_depth=14, n_estimators=10; total time=   0.0s\n",
      "[CV] END ......................max_depth=14, n_estimators=20; total time=   0.0s\n",
      "[CV] END ......................max_depth=14, n_estimators=20; total time=   0.1s\n",
      "[CV] END ......................max_depth=14, n_estimators=20; total time=   0.1s\n",
      "[CV] END ......................max_depth=14, n_estimators=30; total time=   0.1s\n",
      "[CV] END ......................max_depth=14, n_estimators=30; total time=   0.1s\n",
      "[CV] END ......................max_depth=14, n_estimators=30; total time=   0.1s\n",
      "[CV] END ......................max_depth=14, n_estimators=40; total time=   0.2s\n",
      "[CV] END ......................max_depth=14, n_estimators=40; total time=   0.2s\n",
      "[CV] END ......................max_depth=14, n_estimators=40; total time=   0.1s\n",
      "[CV] END ......................max_depth=14, n_estimators=50; total time=   0.2s\n",
      "[CV] END ......................max_depth=14, n_estimators=50; total time=   0.2s\n",
      "[CV] END ......................max_depth=14, n_estimators=50; total time=   0.2s\n",
      "[CV] END ......................max_depth=14, n_estimators=60; total time=   0.2s\n",
      "[CV] END ......................max_depth=14, n_estimators=60; total time=   0.2s\n"
     ]
    },
    {
     "name": "stdout",
     "output_type": "stream",
     "text": [
      "[CV] END ......................max_depth=14, n_estimators=60; total time=   0.2s\n",
      "[CV] END ......................max_depth=14, n_estimators=70; total time=   0.3s\n",
      "[CV] END ......................max_depth=14, n_estimators=70; total time=   0.3s\n",
      "[CV] END ......................max_depth=14, n_estimators=70; total time=   0.3s\n",
      "[CV] END ......................max_depth=17, n_estimators=10; total time=   0.0s\n",
      "[CV] END ......................max_depth=17, n_estimators=10; total time=   0.0s\n",
      "[CV] END ......................max_depth=17, n_estimators=10; total time=   0.0s\n",
      "[CV] END ......................max_depth=17, n_estimators=20; total time=   0.1s\n",
      "[CV] END ......................max_depth=17, n_estimators=20; total time=   0.1s\n",
      "[CV] END ......................max_depth=17, n_estimators=20; total time=   0.0s\n",
      "[CV] END ......................max_depth=17, n_estimators=30; total time=   0.1s\n",
      "[CV] END ......................max_depth=17, n_estimators=30; total time=   0.1s\n",
      "[CV] END ......................max_depth=17, n_estimators=30; total time=   0.1s\n",
      "[CV] END ......................max_depth=17, n_estimators=40; total time=   0.2s\n",
      "[CV] END ......................max_depth=17, n_estimators=40; total time=   0.2s\n",
      "[CV] END ......................max_depth=17, n_estimators=40; total time=   0.2s\n",
      "[CV] END ......................max_depth=17, n_estimators=50; total time=   0.2s\n",
      "[CV] END ......................max_depth=17, n_estimators=50; total time=   0.2s\n",
      "[CV] END ......................max_depth=17, n_estimators=50; total time=   0.2s\n",
      "[CV] END ......................max_depth=17, n_estimators=60; total time=   0.3s\n",
      "[CV] END ......................max_depth=17, n_estimators=60; total time=   0.3s\n",
      "[CV] END ......................max_depth=17, n_estimators=60; total time=   0.3s\n",
      "[CV] END ......................max_depth=17, n_estimators=70; total time=   0.3s\n",
      "[CV] END ......................max_depth=17, n_estimators=70; total time=   0.3s\n",
      "[CV] END ......................max_depth=17, n_estimators=70; total time=   0.3s\n",
      "[CV] END ......................max_depth=20, n_estimators=10; total time=   0.0s\n",
      "[CV] END ......................max_depth=20, n_estimators=10; total time=   0.0s\n",
      "[CV] END ......................max_depth=20, n_estimators=10; total time=   0.0s\n",
      "[CV] END ......................max_depth=20, n_estimators=20; total time=   0.1s\n",
      "[CV] END ......................max_depth=20, n_estimators=20; total time=   0.1s\n",
      "[CV] END ......................max_depth=20, n_estimators=20; total time=   0.1s\n",
      "[CV] END ......................max_depth=20, n_estimators=30; total time=   0.1s\n",
      "[CV] END ......................max_depth=20, n_estimators=30; total time=   0.1s\n",
      "[CV] END ......................max_depth=20, n_estimators=30; total time=   0.1s\n",
      "[CV] END ......................max_depth=20, n_estimators=40; total time=   0.2s\n",
      "[CV] END ......................max_depth=20, n_estimators=40; total time=   0.2s\n",
      "[CV] END ......................max_depth=20, n_estimators=40; total time=   0.2s\n",
      "[CV] END ......................max_depth=20, n_estimators=50; total time=   0.2s\n",
      "[CV] END ......................max_depth=20, n_estimators=50; total time=   0.2s\n",
      "[CV] END ......................max_depth=20, n_estimators=50; total time=   0.2s\n",
      "[CV] END ......................max_depth=20, n_estimators=60; total time=   0.3s\n",
      "[CV] END ......................max_depth=20, n_estimators=60; total time=   0.3s\n",
      "[CV] END ......................max_depth=20, n_estimators=60; total time=   0.3s\n",
      "[CV] END ......................max_depth=20, n_estimators=70; total time=   0.3s\n",
      "[CV] END ......................max_depth=20, n_estimators=70; total time=   0.4s\n",
      "[CV] END ......................max_depth=20, n_estimators=70; total time=   0.3s\n",
      "[CV] END ......................max_depth=23, n_estimators=10; total time=   0.0s\n",
      "[CV] END ......................max_depth=23, n_estimators=10; total time=   0.0s\n",
      "[CV] END ......................max_depth=23, n_estimators=10; total time=   0.0s\n",
      "[CV] END ......................max_depth=23, n_estimators=20; total time=   0.1s\n",
      "[CV] END ......................max_depth=23, n_estimators=20; total time=   0.1s\n",
      "[CV] END ......................max_depth=23, n_estimators=20; total time=   0.0s\n",
      "[CV] END ......................max_depth=23, n_estimators=30; total time=   0.1s\n",
      "[CV] END ......................max_depth=23, n_estimators=30; total time=   0.1s\n",
      "[CV] END ......................max_depth=23, n_estimators=30; total time=   0.1s\n",
      "[CV] END ......................max_depth=23, n_estimators=40; total time=   0.2s\n",
      "[CV] END ......................max_depth=23, n_estimators=40; total time=   0.2s\n",
      "[CV] END ......................max_depth=23, n_estimators=40; total time=   0.2s\n",
      "[CV] END ......................max_depth=23, n_estimators=50; total time=   0.2s\n",
      "[CV] END ......................max_depth=23, n_estimators=50; total time=   0.3s\n",
      "[CV] END ......................max_depth=23, n_estimators=50; total time=   0.2s\n",
      "[CV] END ......................max_depth=23, n_estimators=60; total time=   0.3s\n",
      "[CV] END ......................max_depth=23, n_estimators=60; total time=   0.3s\n",
      "[CV] END ......................max_depth=23, n_estimators=60; total time=   0.3s\n",
      "[CV] END ......................max_depth=23, n_estimators=70; total time=   0.3s\n",
      "[CV] END ......................max_depth=23, n_estimators=70; total time=   0.4s\n",
      "[CV] END ......................max_depth=23, n_estimators=70; total time=   0.3s\n",
      "[CV] END ......................max_depth=26, n_estimators=10; total time=   0.0s\n",
      "[CV] END ......................max_depth=26, n_estimators=10; total time=   0.0s\n",
      "[CV] END ......................max_depth=26, n_estimators=10; total time=   0.0s\n",
      "[CV] END ......................max_depth=26, n_estimators=20; total time=   0.1s\n",
      "[CV] END ......................max_depth=26, n_estimators=20; total time=   0.1s\n",
      "[CV] END ......................max_depth=26, n_estimators=20; total time=   0.0s\n",
      "[CV] END ......................max_depth=26, n_estimators=30; total time=   0.1s\n",
      "[CV] END ......................max_depth=26, n_estimators=30; total time=   0.1s\n",
      "[CV] END ......................max_depth=26, n_estimators=30; total time=   0.1s\n",
      "[CV] END ......................max_depth=26, n_estimators=40; total time=   0.2s\n",
      "[CV] END ......................max_depth=26, n_estimators=40; total time=   0.2s\n",
      "[CV] END ......................max_depth=26, n_estimators=40; total time=   0.2s\n",
      "[CV] END ......................max_depth=26, n_estimators=50; total time=   0.2s\n",
      "[CV] END ......................max_depth=26, n_estimators=50; total time=   0.3s\n",
      "[CV] END ......................max_depth=26, n_estimators=50; total time=   0.2s\n",
      "[CV] END ......................max_depth=26, n_estimators=60; total time=   0.3s\n",
      "[CV] END ......................max_depth=26, n_estimators=60; total time=   0.3s\n",
      "[CV] END ......................max_depth=26, n_estimators=60; total time=   0.3s\n",
      "[CV] END ......................max_depth=26, n_estimators=70; total time=   0.3s\n",
      "[CV] END ......................max_depth=26, n_estimators=70; total time=   0.4s\n",
      "[CV] END ......................max_depth=26, n_estimators=70; total time=   0.3s\n",
      "[CV] END ......................max_depth=29, n_estimators=10; total time=   0.0s\n",
      "[CV] END ......................max_depth=29, n_estimators=10; total time=   0.0s\n",
      "[CV] END ......................max_depth=29, n_estimators=10; total time=   0.0s\n",
      "[CV] END ......................max_depth=29, n_estimators=20; total time=   0.1s\n",
      "[CV] END ......................max_depth=29, n_estimators=20; total time=   0.1s\n",
      "[CV] END ......................max_depth=29, n_estimators=20; total time=   0.0s\n",
      "[CV] END ......................max_depth=29, n_estimators=30; total time=   0.1s\n",
      "[CV] END ......................max_depth=29, n_estimators=30; total time=   0.1s\n",
      "[CV] END ......................max_depth=29, n_estimators=30; total time=   0.1s\n",
      "[CV] END ......................max_depth=29, n_estimators=40; total time=   0.2s\n",
      "[CV] END ......................max_depth=29, n_estimators=40; total time=   0.2s\n",
      "[CV] END ......................max_depth=29, n_estimators=40; total time=   0.2s\n",
      "[CV] END ......................max_depth=29, n_estimators=50; total time=   0.2s\n",
      "[CV] END ......................max_depth=29, n_estimators=50; total time=   0.3s\n"
     ]
    },
    {
     "name": "stdout",
     "output_type": "stream",
     "text": [
      "[CV] END ......................max_depth=29, n_estimators=50; total time=   0.2s\n",
      "[CV] END ......................max_depth=29, n_estimators=60; total time=   0.3s\n",
      "[CV] END ......................max_depth=29, n_estimators=60; total time=   0.3s\n",
      "[CV] END ......................max_depth=29, n_estimators=60; total time=   0.3s\n",
      "[CV] END ......................max_depth=29, n_estimators=70; total time=   0.4s\n",
      "[CV] END ......................max_depth=29, n_estimators=70; total time=   0.4s\n",
      "[CV] END ......................max_depth=29, n_estimators=70; total time=   0.3s\n"
     ]
    },
    {
     "data": {
      "text/html": [
       "<style>#sk-container-id-15 {color: black;}#sk-container-id-15 pre{padding: 0;}#sk-container-id-15 div.sk-toggleable {background-color: white;}#sk-container-id-15 label.sk-toggleable__label {cursor: pointer;display: block;width: 100%;margin-bottom: 0;padding: 0.3em;box-sizing: border-box;text-align: center;}#sk-container-id-15 label.sk-toggleable__label-arrow:before {content: \"▸\";float: left;margin-right: 0.25em;color: #696969;}#sk-container-id-15 label.sk-toggleable__label-arrow:hover:before {color: black;}#sk-container-id-15 div.sk-estimator:hover label.sk-toggleable__label-arrow:before {color: black;}#sk-container-id-15 div.sk-toggleable__content {max-height: 0;max-width: 0;overflow: hidden;text-align: left;background-color: #f0f8ff;}#sk-container-id-15 div.sk-toggleable__content pre {margin: 0.2em;color: black;border-radius: 0.25em;background-color: #f0f8ff;}#sk-container-id-15 input.sk-toggleable__control:checked~div.sk-toggleable__content {max-height: 200px;max-width: 100%;overflow: auto;}#sk-container-id-15 input.sk-toggleable__control:checked~label.sk-toggleable__label-arrow:before {content: \"▾\";}#sk-container-id-15 div.sk-estimator input.sk-toggleable__control:checked~label.sk-toggleable__label {background-color: #d4ebff;}#sk-container-id-15 div.sk-label input.sk-toggleable__control:checked~label.sk-toggleable__label {background-color: #d4ebff;}#sk-container-id-15 input.sk-hidden--visually {border: 0;clip: rect(1px 1px 1px 1px);clip: rect(1px, 1px, 1px, 1px);height: 1px;margin: -1px;overflow: hidden;padding: 0;position: absolute;width: 1px;}#sk-container-id-15 div.sk-estimator {font-family: monospace;background-color: #f0f8ff;border: 1px dotted black;border-radius: 0.25em;box-sizing: border-box;margin-bottom: 0.5em;}#sk-container-id-15 div.sk-estimator:hover {background-color: #d4ebff;}#sk-container-id-15 div.sk-parallel-item::after {content: \"\";width: 100%;border-bottom: 1px solid gray;flex-grow: 1;}#sk-container-id-15 div.sk-label:hover label.sk-toggleable__label {background-color: #d4ebff;}#sk-container-id-15 div.sk-serial::before {content: \"\";position: absolute;border-left: 1px solid gray;box-sizing: border-box;top: 0;bottom: 0;left: 50%;z-index: 0;}#sk-container-id-15 div.sk-serial {display: flex;flex-direction: column;align-items: center;background-color: white;padding-right: 0.2em;padding-left: 0.2em;position: relative;}#sk-container-id-15 div.sk-item {position: relative;z-index: 1;}#sk-container-id-15 div.sk-parallel {display: flex;align-items: stretch;justify-content: center;background-color: white;position: relative;}#sk-container-id-15 div.sk-item::before, #sk-container-id-15 div.sk-parallel-item::before {content: \"\";position: absolute;border-left: 1px solid gray;box-sizing: border-box;top: 0;bottom: 0;left: 50%;z-index: -1;}#sk-container-id-15 div.sk-parallel-item {display: flex;flex-direction: column;z-index: 1;position: relative;background-color: white;}#sk-container-id-15 div.sk-parallel-item:first-child::after {align-self: flex-end;width: 50%;}#sk-container-id-15 div.sk-parallel-item:last-child::after {align-self: flex-start;width: 50%;}#sk-container-id-15 div.sk-parallel-item:only-child::after {width: 0;}#sk-container-id-15 div.sk-dashed-wrapped {border: 1px dashed gray;margin: 0 0.4em 0.5em 0.4em;box-sizing: border-box;padding-bottom: 0.4em;background-color: white;}#sk-container-id-15 div.sk-label label {font-family: monospace;font-weight: bold;display: inline-block;line-height: 1.2em;}#sk-container-id-15 div.sk-label-container {text-align: center;}#sk-container-id-15 div.sk-container {/* jupyter's `normalize.less` sets `[hidden] { display: none; }` but bootstrap.min.css set `[hidden] { display: none !important; }` so we also need the `!important` here to be able to override the default hidden behavior on the sphinx rendered scikit-learn.org. See: https://github.com/scikit-learn/scikit-learn/issues/21755 */display: inline-block !important;position: relative;}#sk-container-id-15 div.sk-text-repr-fallback {display: none;}</style><div id=\"sk-container-id-15\" class=\"sk-top-container\"><div class=\"sk-text-repr-fallback\"><pre>GridSearchCV(cv=3,\n",
       "             estimator=RandomForestClassifier(class_weight=&#x27;balanced&#x27;,\n",
       "                                              n_jobs=-1),\n",
       "             param_grid={&#x27;max_depth&#x27;: array([ 2,  5,  8, 11, 14, 17, 20, 23, 26, 29]),\n",
       "                         &#x27;n_estimators&#x27;: array([10, 20, 30, 40, 50, 60, 70])},\n",
       "             scoring=&#x27;roc_auc&#x27;, verbose=2)</pre><b>In a Jupyter environment, please rerun this cell to show the HTML representation or trust the notebook. <br />On GitHub, the HTML representation is unable to render, please try loading this page with nbviewer.org.</b></div><div class=\"sk-container\" hidden><div class=\"sk-item sk-dashed-wrapped\"><div class=\"sk-label-container\"><div class=\"sk-label sk-toggleable\"><input class=\"sk-toggleable__control sk-hidden--visually\" id=\"sk-estimator-id-43\" type=\"checkbox\" ><label for=\"sk-estimator-id-43\" class=\"sk-toggleable__label sk-toggleable__label-arrow\">GridSearchCV</label><div class=\"sk-toggleable__content\"><pre>GridSearchCV(cv=3,\n",
       "             estimator=RandomForestClassifier(class_weight=&#x27;balanced&#x27;,\n",
       "                                              n_jobs=-1),\n",
       "             param_grid={&#x27;max_depth&#x27;: array([ 2,  5,  8, 11, 14, 17, 20, 23, 26, 29]),\n",
       "                         &#x27;n_estimators&#x27;: array([10, 20, 30, 40, 50, 60, 70])},\n",
       "             scoring=&#x27;roc_auc&#x27;, verbose=2)</pre></div></div></div><div class=\"sk-parallel\"><div class=\"sk-parallel-item\"><div class=\"sk-item\"><div class=\"sk-label-container\"><div class=\"sk-label sk-toggleable\"><input class=\"sk-toggleable__control sk-hidden--visually\" id=\"sk-estimator-id-44\" type=\"checkbox\" ><label for=\"sk-estimator-id-44\" class=\"sk-toggleable__label sk-toggleable__label-arrow\">estimator: RandomForestClassifier</label><div class=\"sk-toggleable__content\"><pre>RandomForestClassifier(class_weight=&#x27;balanced&#x27;, n_jobs=-1)</pre></div></div></div><div class=\"sk-serial\"><div class=\"sk-item\"><div class=\"sk-estimator sk-toggleable\"><input class=\"sk-toggleable__control sk-hidden--visually\" id=\"sk-estimator-id-45\" type=\"checkbox\" ><label for=\"sk-estimator-id-45\" class=\"sk-toggleable__label sk-toggleable__label-arrow\">RandomForestClassifier</label><div class=\"sk-toggleable__content\"><pre>RandomForestClassifier(class_weight=&#x27;balanced&#x27;, n_jobs=-1)</pre></div></div></div></div></div></div></div></div></div></div>"
      ],
      "text/plain": [
       "GridSearchCV(cv=3,\n",
       "             estimator=RandomForestClassifier(class_weight='balanced',\n",
       "                                              n_jobs=-1),\n",
       "             param_grid={'max_depth': array([ 2,  5,  8, 11, 14, 17, 20, 23, 26, 29]),\n",
       "                         'n_estimators': array([10, 20, 30, 40, 50, 60, 70])},\n",
       "             scoring='roc_auc', verbose=2)"
      ]
     },
     "execution_count": 312,
     "metadata": {},
     "output_type": "execute_result"
    }
   ],
   "source": [
    "params = {'n_estimators': np.arange(10, 80, 10),\n",
    "          'max_depth': np.arange(2, 30, 3)}\n",
    "\n",
    "gs = GridSearchCV(RandomForestClassifier(class_weight='balanced',n_jobs=-1), params, cv=3, scoring='roc_auc', verbose=2)\n",
    "\n",
    "gs.fit(Xtrain, ytrain)"
   ]
  },
  {
   "cell_type": "code",
   "execution_count": 223,
   "metadata": {},
   "outputs": [],
   "source": [
    "from sklearn.model_selection import train_test_split, cross_val_score, GridSearchCV"
   ]
  },
  {
   "cell_type": "code",
   "execution_count": 224,
   "metadata": {},
   "outputs": [
    {
     "data": {
      "text/plain": [
       "0.8737067483744543"
      ]
     },
     "execution_count": 224,
     "metadata": {},
     "output_type": "execute_result"
    }
   ],
   "source": [
    "rfc = RandomForestClassifier(class_weight='balanced')\n",
    "\n",
    "cross_val_score(rfc, X, y, cv=3, scoring='roc_auc').mean()"
   ]
  },
  {
   "cell_type": "code",
   "execution_count": 314,
   "metadata": {},
   "outputs": [
    {
     "data": {
      "text/plain": [
       "(0.904667652217027,\n",
       " RandomForestClassifier(class_weight='balanced', max_depth=29, n_estimators=70,\n",
       "                        n_jobs=-1))"
      ]
     },
     "execution_count": 314,
     "metadata": {},
     "output_type": "execute_result"
    }
   ],
   "source": [
    "gs.best_score_, gs.best_estimator_"
   ]
  },
  {
   "cell_type": "code",
   "execution_count": 315,
   "metadata": {},
   "outputs": [],
   "source": [
    "rfc_pred_test=gs.predict_proba(Xtest)[:,1]"
   ]
  },
  {
   "cell_type": "code",
   "execution_count": 316,
   "metadata": {},
   "outputs": [
    {
     "data": {
      "text/plain": [
       "1.0"
      ]
     },
     "execution_count": 316,
     "metadata": {},
     "output_type": "execute_result"
    }
   ],
   "source": [
    "roc_auc_score(ytest,rfc_pred_test)"
   ]
  },
  {
   "cell_type": "code",
   "execution_count": null,
   "metadata": {},
   "outputs": [],
   "source": []
  },
  {
   "cell_type": "code",
   "execution_count": null,
   "metadata": {},
   "outputs": [],
   "source": []
  }
 ],
 "metadata": {
  "kernelspec": {
   "display_name": "Python 3",
   "language": "python",
   "name": "python3"
  },
  "language_info": {
   "codemirror_mode": {
    "name": "ipython",
    "version": 3
   },
   "file_extension": ".py",
   "mimetype": "text/x-python",
   "name": "python",
   "nbconvert_exporter": "python",
   "pygments_lexer": "ipython3",
   "version": "3.8.5"
  }
 },
 "nbformat": 4,
 "nbformat_minor": 4
}
